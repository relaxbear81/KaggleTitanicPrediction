{
  "metadata": {
    "kernelspec": {
      "language": "python",
      "display_name": "Python 3",
      "name": "python3"
    },
    "language_info": {
      "pygments_lexer": "ipython3",
      "nbconvert_exporter": "python",
      "version": "3.6.4",
      "file_extension": ".py",
      "codemirror_mode": {
        "name": "ipython",
        "version": 3
      },
      "name": "python",
      "mimetype": "text/x-python"
    },
    "colab": {
      "provenance": []
    }
  },
  "nbformat_minor": 0,
  "nbformat": 4,
  "cells": [
    {
      "cell_type": "code",
      "source": [
        "!wget -P /kaggle/input/titanic \"https://raw.githubusercontent.com/relaxbear81/KaggleTitanicPrediction/master/train.csv\"\n",
        "!wget -P /kaggle/input/titanic \"https://raw.githubusercontent.com/relaxbear81/KaggleTitanicPrediction/master/test.csv\""
      ],
      "metadata": {
        "id": "t3NJPCcNK4xR",
        "colab": {
          "base_uri": "https://localhost:8080/"
        },
        "outputId": "483e9bc5-7a62-4a45-c0f7-bc4f180ace0f"
      },
      "execution_count": null,
      "outputs": [
        {
          "output_type": "stream",
          "name": "stdout",
          "text": [
            "--2023-08-08 17:34:12--  https://raw.githubusercontent.com/relaxbear81/KaggleTitanicPrediction/master/train.csv\n",
            "Resolving raw.githubusercontent.com (raw.githubusercontent.com)... 185.199.108.133, 185.199.109.133, 185.199.110.133, ...\n",
            "Connecting to raw.githubusercontent.com (raw.githubusercontent.com)|185.199.108.133|:443... connected.\n",
            "HTTP request sent, awaiting response... 200 OK\n",
            "Length: 61194 (60K) [text/plain]\n",
            "Saving to: ‘/kaggle/input/titanic/train.csv’\n",
            "\n",
            "\rtrain.csv             0%[                    ]       0  --.-KB/s               \rtrain.csv           100%[===================>]  59.76K  --.-KB/s    in 0.002s  \n",
            "\n",
            "2023-08-08 17:34:12 (28.7 MB/s) - ‘/kaggle/input/titanic/train.csv’ saved [61194/61194]\n",
            "\n",
            "--2023-08-08 17:34:12--  https://raw.githubusercontent.com/relaxbear81/KaggleTitanicPrediction/master/test.csv\n",
            "Resolving raw.githubusercontent.com (raw.githubusercontent.com)... 185.199.108.133, 185.199.110.133, 185.199.111.133, ...\n",
            "Connecting to raw.githubusercontent.com (raw.githubusercontent.com)|185.199.108.133|:443... connected.\n",
            "HTTP request sent, awaiting response... 200 OK\n",
            "Length: 28629 (28K) [text/plain]\n",
            "Saving to: ‘/kaggle/input/titanic/test.csv’\n",
            "\n",
            "test.csv            100%[===================>]  27.96K  --.-KB/s    in 0s      \n",
            "\n",
            "2023-08-08 17:34:12 (86.3 MB/s) - ‘/kaggle/input/titanic/test.csv’ saved [28629/28629]\n",
            "\n"
          ]
        }
      ]
    },
    {
      "cell_type": "code",
      "source": [
        "# This Python 3 environment comes with many helpful analytics libraries installed\n",
        "# It is defined by the kaggle/python Docker image: https://github.com/kaggle/docker-python\n",
        "# For example, here's several helpful packages to load\n",
        "\n",
        "import numpy as np # linear algebra\n",
        "import pandas as pd # data processing, CSV file I/O (e.g. pd.read_csv)\n",
        "\n",
        "# Input data files are available in the read-only \"../input/\" directory\n",
        "# For example, running this (by clicking run or pressing Shift+Enter) will list all files under the input directory\n",
        "\n",
        "import os\n",
        "for dirname, _, filenames in os.walk('/kaggle/input'):\n",
        "    for filename in filenames:\n",
        "        print(os.path.join(dirname, filename))\n",
        "\n",
        "# You can write up to 20GB to the current directory (/kaggle/working/) that gets preserved as output when you create a version using \"Save & Run All\"\n",
        "# You can also write temporary files to /kaggle/temp/, but they won't be saved outside of the current session"
      ],
      "metadata": {
        "_uuid": "8f2839f25d086af736a60e9eeb907d3b93b6e0e5",
        "_cell_guid": "b1076dfc-b9ad-4769-8c92-a6c4dae69d19",
        "execution": {
          "iopub.status.busy": "2023-08-07T12:42:15.819429Z",
          "iopub.execute_input": "2023-08-07T12:42:15.819893Z",
          "iopub.status.idle": "2023-08-07T12:42:15.859692Z",
          "shell.execute_reply.started": "2023-08-07T12:42:15.819857Z",
          "shell.execute_reply": "2023-08-07T12:42:15.858175Z"
        },
        "trusted": true,
        "id": "C92chdysKcn_",
        "colab": {
          "base_uri": "https://localhost:8080/"
        },
        "outputId": "3dc1f74e-4b5c-4df3-a2de-39fa2c566837"
      },
      "execution_count": null,
      "outputs": [
        {
          "output_type": "stream",
          "name": "stdout",
          "text": [
            "/kaggle/input/titanic/test.csv\n",
            "/kaggle/input/titanic/train.csv\n"
          ]
        }
      ]
    },
    {
      "cell_type": "code",
      "source": [
        "pd.set_option(\"display.max_rows\", None)\n",
        "pd.set_option('display.max_columns', None)\n",
        "np.set_printoptions(threshold=np.inf)"
      ],
      "metadata": {
        "execution": {
          "iopub.status.busy": "2023-08-07T12:42:20.047522Z",
          "iopub.execute_input": "2023-08-07T12:42:20.048125Z",
          "iopub.status.idle": "2023-08-07T12:42:20.055676Z",
          "shell.execute_reply.started": "2023-08-07T12:42:20.04806Z",
          "shell.execute_reply": "2023-08-07T12:42:20.05388Z"
        },
        "trusted": true,
        "id": "Hn9CP80WKcoB"
      },
      "execution_count": null,
      "outputs": []
    },
    {
      "cell_type": "code",
      "source": [
        "train_data = pd.read_csv(\"/kaggle/input/titanic/train.csv\")\n",
        "train_data.head()"
      ],
      "metadata": {
        "execution": {
          "iopub.status.busy": "2023-08-07T12:42:22.507781Z",
          "iopub.execute_input": "2023-08-07T12:42:22.508229Z",
          "iopub.status.idle": "2023-08-07T12:42:22.56234Z",
          "shell.execute_reply.started": "2023-08-07T12:42:22.508197Z",
          "shell.execute_reply": "2023-08-07T12:42:22.561362Z"
        },
        "trusted": true,
        "id": "2uAcpRU_KcoC",
        "colab": {
          "base_uri": "https://localhost:8080/",
          "height": 250
        },
        "outputId": "debff0da-b459-42aa-e635-5a0559a964ea"
      },
      "execution_count": null,
      "outputs": [
        {
          "output_type": "execute_result",
          "data": {
            "text/plain": [
              "   PassengerId  Survived  Pclass  \\\n",
              "0            1         0       3   \n",
              "1            2         1       1   \n",
              "2            3         1       3   \n",
              "3            4         1       1   \n",
              "4            5         0       3   \n",
              "\n",
              "                                                Name     Sex   Age  SibSp  \\\n",
              "0                            Braund, Mr. Owen Harris    male  22.0      1   \n",
              "1  Cumings, Mrs. John Bradley (Florence Briggs Th...  female  38.0      1   \n",
              "2                             Heikkinen, Miss. Laina  female  26.0      0   \n",
              "3       Futrelle, Mrs. Jacques Heath (Lily May Peel)  female  35.0      1   \n",
              "4                           Allen, Mr. William Henry    male  35.0      0   \n",
              "\n",
              "   Parch            Ticket     Fare Cabin Embarked  \n",
              "0      0         A/5 21171   7.2500   NaN        S  \n",
              "1      0          PC 17599  71.2833   C85        C  \n",
              "2      0  STON/O2. 3101282   7.9250   NaN        S  \n",
              "3      0            113803  53.1000  C123        S  \n",
              "4      0            373450   8.0500   NaN        S  "
            ],
            "text/html": [
              "\n",
              "\n",
              "  <div id=\"df-a48d0ee8-cf05-41f4-82a2-b6fed5b83f8f\">\n",
              "    <div class=\"colab-df-container\">\n",
              "      <div>\n",
              "<style scoped>\n",
              "    .dataframe tbody tr th:only-of-type {\n",
              "        vertical-align: middle;\n",
              "    }\n",
              "\n",
              "    .dataframe tbody tr th {\n",
              "        vertical-align: top;\n",
              "    }\n",
              "\n",
              "    .dataframe thead th {\n",
              "        text-align: right;\n",
              "    }\n",
              "</style>\n",
              "<table border=\"1\" class=\"dataframe\">\n",
              "  <thead>\n",
              "    <tr style=\"text-align: right;\">\n",
              "      <th></th>\n",
              "      <th>PassengerId</th>\n",
              "      <th>Survived</th>\n",
              "      <th>Pclass</th>\n",
              "      <th>Name</th>\n",
              "      <th>Sex</th>\n",
              "      <th>Age</th>\n",
              "      <th>SibSp</th>\n",
              "      <th>Parch</th>\n",
              "      <th>Ticket</th>\n",
              "      <th>Fare</th>\n",
              "      <th>Cabin</th>\n",
              "      <th>Embarked</th>\n",
              "    </tr>\n",
              "  </thead>\n",
              "  <tbody>\n",
              "    <tr>\n",
              "      <th>0</th>\n",
              "      <td>1</td>\n",
              "      <td>0</td>\n",
              "      <td>3</td>\n",
              "      <td>Braund, Mr. Owen Harris</td>\n",
              "      <td>male</td>\n",
              "      <td>22.0</td>\n",
              "      <td>1</td>\n",
              "      <td>0</td>\n",
              "      <td>A/5 21171</td>\n",
              "      <td>7.2500</td>\n",
              "      <td>NaN</td>\n",
              "      <td>S</td>\n",
              "    </tr>\n",
              "    <tr>\n",
              "      <th>1</th>\n",
              "      <td>2</td>\n",
              "      <td>1</td>\n",
              "      <td>1</td>\n",
              "      <td>Cumings, Mrs. John Bradley (Florence Briggs Th...</td>\n",
              "      <td>female</td>\n",
              "      <td>38.0</td>\n",
              "      <td>1</td>\n",
              "      <td>0</td>\n",
              "      <td>PC 17599</td>\n",
              "      <td>71.2833</td>\n",
              "      <td>C85</td>\n",
              "      <td>C</td>\n",
              "    </tr>\n",
              "    <tr>\n",
              "      <th>2</th>\n",
              "      <td>3</td>\n",
              "      <td>1</td>\n",
              "      <td>3</td>\n",
              "      <td>Heikkinen, Miss. Laina</td>\n",
              "      <td>female</td>\n",
              "      <td>26.0</td>\n",
              "      <td>0</td>\n",
              "      <td>0</td>\n",
              "      <td>STON/O2. 3101282</td>\n",
              "      <td>7.9250</td>\n",
              "      <td>NaN</td>\n",
              "      <td>S</td>\n",
              "    </tr>\n",
              "    <tr>\n",
              "      <th>3</th>\n",
              "      <td>4</td>\n",
              "      <td>1</td>\n",
              "      <td>1</td>\n",
              "      <td>Futrelle, Mrs. Jacques Heath (Lily May Peel)</td>\n",
              "      <td>female</td>\n",
              "      <td>35.0</td>\n",
              "      <td>1</td>\n",
              "      <td>0</td>\n",
              "      <td>113803</td>\n",
              "      <td>53.1000</td>\n",
              "      <td>C123</td>\n",
              "      <td>S</td>\n",
              "    </tr>\n",
              "    <tr>\n",
              "      <th>4</th>\n",
              "      <td>5</td>\n",
              "      <td>0</td>\n",
              "      <td>3</td>\n",
              "      <td>Allen, Mr. William Henry</td>\n",
              "      <td>male</td>\n",
              "      <td>35.0</td>\n",
              "      <td>0</td>\n",
              "      <td>0</td>\n",
              "      <td>373450</td>\n",
              "      <td>8.0500</td>\n",
              "      <td>NaN</td>\n",
              "      <td>S</td>\n",
              "    </tr>\n",
              "  </tbody>\n",
              "</table>\n",
              "</div>\n",
              "      <button class=\"colab-df-convert\" onclick=\"convertToInteractive('df-a48d0ee8-cf05-41f4-82a2-b6fed5b83f8f')\"\n",
              "              title=\"Convert this dataframe to an interactive table.\"\n",
              "              style=\"display:none;\">\n",
              "\n",
              "  <svg xmlns=\"http://www.w3.org/2000/svg\" height=\"24px\"viewBox=\"0 0 24 24\"\n",
              "       width=\"24px\">\n",
              "    <path d=\"M0 0h24v24H0V0z\" fill=\"none\"/>\n",
              "    <path d=\"M18.56 5.44l.94 2.06.94-2.06 2.06-.94-2.06-.94-.94-2.06-.94 2.06-2.06.94zm-11 1L8.5 8.5l.94-2.06 2.06-.94-2.06-.94L8.5 2.5l-.94 2.06-2.06.94zm10 10l.94 2.06.94-2.06 2.06-.94-2.06-.94-.94-2.06-.94 2.06-2.06.94z\"/><path d=\"M17.41 7.96l-1.37-1.37c-.4-.4-.92-.59-1.43-.59-.52 0-1.04.2-1.43.59L10.3 9.45l-7.72 7.72c-.78.78-.78 2.05 0 2.83L4 21.41c.39.39.9.59 1.41.59.51 0 1.02-.2 1.41-.59l7.78-7.78 2.81-2.81c.8-.78.8-2.07 0-2.86zM5.41 20L4 18.59l7.72-7.72 1.47 1.35L5.41 20z\"/>\n",
              "  </svg>\n",
              "      </button>\n",
              "\n",
              "\n",
              "\n",
              "    <div id=\"df-da1bbcaa-82bc-410a-b1f4-d6c78923dde8\">\n",
              "      <button class=\"colab-df-quickchart\" onclick=\"quickchart('df-da1bbcaa-82bc-410a-b1f4-d6c78923dde8')\"\n",
              "              title=\"Suggest charts.\"\n",
              "              style=\"display:none;\">\n",
              "\n",
              "<svg xmlns=\"http://www.w3.org/2000/svg\" height=\"24px\"viewBox=\"0 0 24 24\"\n",
              "     width=\"24px\">\n",
              "    <g>\n",
              "        <path d=\"M19 3H5c-1.1 0-2 .9-2 2v14c0 1.1.9 2 2 2h14c1.1 0 2-.9 2-2V5c0-1.1-.9-2-2-2zM9 17H7v-7h2v7zm4 0h-2V7h2v10zm4 0h-2v-4h2v4z\"/>\n",
              "    </g>\n",
              "</svg>\n",
              "      </button>\n",
              "    </div>\n",
              "\n",
              "<style>\n",
              "  .colab-df-quickchart {\n",
              "    background-color: #E8F0FE;\n",
              "    border: none;\n",
              "    border-radius: 50%;\n",
              "    cursor: pointer;\n",
              "    display: none;\n",
              "    fill: #1967D2;\n",
              "    height: 32px;\n",
              "    padding: 0 0 0 0;\n",
              "    width: 32px;\n",
              "  }\n",
              "\n",
              "  .colab-df-quickchart:hover {\n",
              "    background-color: #E2EBFA;\n",
              "    box-shadow: 0px 1px 2px rgba(60, 64, 67, 0.3), 0px 1px 3px 1px rgba(60, 64, 67, 0.15);\n",
              "    fill: #174EA6;\n",
              "  }\n",
              "\n",
              "  [theme=dark] .colab-df-quickchart {\n",
              "    background-color: #3B4455;\n",
              "    fill: #D2E3FC;\n",
              "  }\n",
              "\n",
              "  [theme=dark] .colab-df-quickchart:hover {\n",
              "    background-color: #434B5C;\n",
              "    box-shadow: 0px 1px 3px 1px rgba(0, 0, 0, 0.15);\n",
              "    filter: drop-shadow(0px 1px 2px rgba(0, 0, 0, 0.3));\n",
              "    fill: #FFFFFF;\n",
              "  }\n",
              "</style>\n",
              "\n",
              "    <script>\n",
              "      async function quickchart(key) {\n",
              "        const containerElement = document.querySelector('#' + key);\n",
              "        const charts = await google.colab.kernel.invokeFunction(\n",
              "            'suggestCharts', [key], {});\n",
              "      }\n",
              "    </script>\n",
              "\n",
              "      <script>\n",
              "\n",
              "function displayQuickchartButton(domScope) {\n",
              "  let quickchartButtonEl =\n",
              "    domScope.querySelector('#df-da1bbcaa-82bc-410a-b1f4-d6c78923dde8 button.colab-df-quickchart');\n",
              "  quickchartButtonEl.style.display =\n",
              "    google.colab.kernel.accessAllowed ? 'block' : 'none';\n",
              "}\n",
              "\n",
              "        displayQuickchartButton(document);\n",
              "      </script>\n",
              "      <style>\n",
              "    .colab-df-container {\n",
              "      display:flex;\n",
              "      flex-wrap:wrap;\n",
              "      gap: 12px;\n",
              "    }\n",
              "\n",
              "    .colab-df-convert {\n",
              "      background-color: #E8F0FE;\n",
              "      border: none;\n",
              "      border-radius: 50%;\n",
              "      cursor: pointer;\n",
              "      display: none;\n",
              "      fill: #1967D2;\n",
              "      height: 32px;\n",
              "      padding: 0 0 0 0;\n",
              "      width: 32px;\n",
              "    }\n",
              "\n",
              "    .colab-df-convert:hover {\n",
              "      background-color: #E2EBFA;\n",
              "      box-shadow: 0px 1px 2px rgba(60, 64, 67, 0.3), 0px 1px 3px 1px rgba(60, 64, 67, 0.15);\n",
              "      fill: #174EA6;\n",
              "    }\n",
              "\n",
              "    [theme=dark] .colab-df-convert {\n",
              "      background-color: #3B4455;\n",
              "      fill: #D2E3FC;\n",
              "    }\n",
              "\n",
              "    [theme=dark] .colab-df-convert:hover {\n",
              "      background-color: #434B5C;\n",
              "      box-shadow: 0px 1px 3px 1px rgba(0, 0, 0, 0.15);\n",
              "      filter: drop-shadow(0px 1px 2px rgba(0, 0, 0, 0.3));\n",
              "      fill: #FFFFFF;\n",
              "    }\n",
              "  </style>\n",
              "\n",
              "      <script>\n",
              "        const buttonEl =\n",
              "          document.querySelector('#df-a48d0ee8-cf05-41f4-82a2-b6fed5b83f8f button.colab-df-convert');\n",
              "        buttonEl.style.display =\n",
              "          google.colab.kernel.accessAllowed ? 'block' : 'none';\n",
              "\n",
              "        async function convertToInteractive(key) {\n",
              "          const element = document.querySelector('#df-a48d0ee8-cf05-41f4-82a2-b6fed5b83f8f');\n",
              "          const dataTable =\n",
              "            await google.colab.kernel.invokeFunction('convertToInteractive',\n",
              "                                                     [key], {});\n",
              "          if (!dataTable) return;\n",
              "\n",
              "          const docLinkHtml = 'Like what you see? Visit the ' +\n",
              "            '<a target=\"_blank\" href=https://colab.research.google.com/notebooks/data_table.ipynb>data table notebook</a>'\n",
              "            + ' to learn more about interactive tables.';\n",
              "          element.innerHTML = '';\n",
              "          dataTable['output_type'] = 'display_data';\n",
              "          await google.colab.output.renderOutput(dataTable, element);\n",
              "          const docLink = document.createElement('div');\n",
              "          docLink.innerHTML = docLinkHtml;\n",
              "          element.appendChild(docLink);\n",
              "        }\n",
              "      </script>\n",
              "    </div>\n",
              "  </div>\n"
            ]
          },
          "metadata": {},
          "execution_count": 4
        }
      ]
    },
    {
      "cell_type": "code",
      "source": [
        "test_data = pd.read_csv(\"/kaggle/input/titanic/test.csv\")\n",
        "test_data.head()"
      ],
      "metadata": {
        "execution": {
          "iopub.status.busy": "2023-08-07T12:42:23.576211Z",
          "iopub.execute_input": "2023-08-07T12:42:23.576674Z",
          "iopub.status.idle": "2023-08-07T12:42:23.605132Z",
          "shell.execute_reply.started": "2023-08-07T12:42:23.576631Z",
          "shell.execute_reply": "2023-08-07T12:42:23.60416Z"
        },
        "trusted": true,
        "id": "SZGB9ploKcoC",
        "colab": {
          "base_uri": "https://localhost:8080/",
          "height": 206
        },
        "outputId": "0fec29fa-1c73-4d77-a302-aad2fb4fd9ef"
      },
      "execution_count": null,
      "outputs": [
        {
          "output_type": "execute_result",
          "data": {
            "text/plain": [
              "   PassengerId  Pclass                                          Name     Sex  \\\n",
              "0          892       3                              Kelly, Mr. James    male   \n",
              "1          893       3              Wilkes, Mrs. James (Ellen Needs)  female   \n",
              "2          894       2                     Myles, Mr. Thomas Francis    male   \n",
              "3          895       3                              Wirz, Mr. Albert    male   \n",
              "4          896       3  Hirvonen, Mrs. Alexander (Helga E Lindqvist)  female   \n",
              "\n",
              "    Age  SibSp  Parch   Ticket     Fare Cabin Embarked  \n",
              "0  34.5      0      0   330911   7.8292   NaN        Q  \n",
              "1  47.0      1      0   363272   7.0000   NaN        S  \n",
              "2  62.0      0      0   240276   9.6875   NaN        Q  \n",
              "3  27.0      0      0   315154   8.6625   NaN        S  \n",
              "4  22.0      1      1  3101298  12.2875   NaN        S  "
            ],
            "text/html": [
              "\n",
              "\n",
              "  <div id=\"df-099e975a-ef7a-4110-8864-c29104c6830e\">\n",
              "    <div class=\"colab-df-container\">\n",
              "      <div>\n",
              "<style scoped>\n",
              "    .dataframe tbody tr th:only-of-type {\n",
              "        vertical-align: middle;\n",
              "    }\n",
              "\n",
              "    .dataframe tbody tr th {\n",
              "        vertical-align: top;\n",
              "    }\n",
              "\n",
              "    .dataframe thead th {\n",
              "        text-align: right;\n",
              "    }\n",
              "</style>\n",
              "<table border=\"1\" class=\"dataframe\">\n",
              "  <thead>\n",
              "    <tr style=\"text-align: right;\">\n",
              "      <th></th>\n",
              "      <th>PassengerId</th>\n",
              "      <th>Pclass</th>\n",
              "      <th>Name</th>\n",
              "      <th>Sex</th>\n",
              "      <th>Age</th>\n",
              "      <th>SibSp</th>\n",
              "      <th>Parch</th>\n",
              "      <th>Ticket</th>\n",
              "      <th>Fare</th>\n",
              "      <th>Cabin</th>\n",
              "      <th>Embarked</th>\n",
              "    </tr>\n",
              "  </thead>\n",
              "  <tbody>\n",
              "    <tr>\n",
              "      <th>0</th>\n",
              "      <td>892</td>\n",
              "      <td>3</td>\n",
              "      <td>Kelly, Mr. James</td>\n",
              "      <td>male</td>\n",
              "      <td>34.5</td>\n",
              "      <td>0</td>\n",
              "      <td>0</td>\n",
              "      <td>330911</td>\n",
              "      <td>7.8292</td>\n",
              "      <td>NaN</td>\n",
              "      <td>Q</td>\n",
              "    </tr>\n",
              "    <tr>\n",
              "      <th>1</th>\n",
              "      <td>893</td>\n",
              "      <td>3</td>\n",
              "      <td>Wilkes, Mrs. James (Ellen Needs)</td>\n",
              "      <td>female</td>\n",
              "      <td>47.0</td>\n",
              "      <td>1</td>\n",
              "      <td>0</td>\n",
              "      <td>363272</td>\n",
              "      <td>7.0000</td>\n",
              "      <td>NaN</td>\n",
              "      <td>S</td>\n",
              "    </tr>\n",
              "    <tr>\n",
              "      <th>2</th>\n",
              "      <td>894</td>\n",
              "      <td>2</td>\n",
              "      <td>Myles, Mr. Thomas Francis</td>\n",
              "      <td>male</td>\n",
              "      <td>62.0</td>\n",
              "      <td>0</td>\n",
              "      <td>0</td>\n",
              "      <td>240276</td>\n",
              "      <td>9.6875</td>\n",
              "      <td>NaN</td>\n",
              "      <td>Q</td>\n",
              "    </tr>\n",
              "    <tr>\n",
              "      <th>3</th>\n",
              "      <td>895</td>\n",
              "      <td>3</td>\n",
              "      <td>Wirz, Mr. Albert</td>\n",
              "      <td>male</td>\n",
              "      <td>27.0</td>\n",
              "      <td>0</td>\n",
              "      <td>0</td>\n",
              "      <td>315154</td>\n",
              "      <td>8.6625</td>\n",
              "      <td>NaN</td>\n",
              "      <td>S</td>\n",
              "    </tr>\n",
              "    <tr>\n",
              "      <th>4</th>\n",
              "      <td>896</td>\n",
              "      <td>3</td>\n",
              "      <td>Hirvonen, Mrs. Alexander (Helga E Lindqvist)</td>\n",
              "      <td>female</td>\n",
              "      <td>22.0</td>\n",
              "      <td>1</td>\n",
              "      <td>1</td>\n",
              "      <td>3101298</td>\n",
              "      <td>12.2875</td>\n",
              "      <td>NaN</td>\n",
              "      <td>S</td>\n",
              "    </tr>\n",
              "  </tbody>\n",
              "</table>\n",
              "</div>\n",
              "      <button class=\"colab-df-convert\" onclick=\"convertToInteractive('df-099e975a-ef7a-4110-8864-c29104c6830e')\"\n",
              "              title=\"Convert this dataframe to an interactive table.\"\n",
              "              style=\"display:none;\">\n",
              "\n",
              "  <svg xmlns=\"http://www.w3.org/2000/svg\" height=\"24px\"viewBox=\"0 0 24 24\"\n",
              "       width=\"24px\">\n",
              "    <path d=\"M0 0h24v24H0V0z\" fill=\"none\"/>\n",
              "    <path d=\"M18.56 5.44l.94 2.06.94-2.06 2.06-.94-2.06-.94-.94-2.06-.94 2.06-2.06.94zm-11 1L8.5 8.5l.94-2.06 2.06-.94-2.06-.94L8.5 2.5l-.94 2.06-2.06.94zm10 10l.94 2.06.94-2.06 2.06-.94-2.06-.94-.94-2.06-.94 2.06-2.06.94z\"/><path d=\"M17.41 7.96l-1.37-1.37c-.4-.4-.92-.59-1.43-.59-.52 0-1.04.2-1.43.59L10.3 9.45l-7.72 7.72c-.78.78-.78 2.05 0 2.83L4 21.41c.39.39.9.59 1.41.59.51 0 1.02-.2 1.41-.59l7.78-7.78 2.81-2.81c.8-.78.8-2.07 0-2.86zM5.41 20L4 18.59l7.72-7.72 1.47 1.35L5.41 20z\"/>\n",
              "  </svg>\n",
              "      </button>\n",
              "\n",
              "\n",
              "\n",
              "    <div id=\"df-8d116168-4fbb-410f-b8cd-1e1878bff054\">\n",
              "      <button class=\"colab-df-quickchart\" onclick=\"quickchart('df-8d116168-4fbb-410f-b8cd-1e1878bff054')\"\n",
              "              title=\"Suggest charts.\"\n",
              "              style=\"display:none;\">\n",
              "\n",
              "<svg xmlns=\"http://www.w3.org/2000/svg\" height=\"24px\"viewBox=\"0 0 24 24\"\n",
              "     width=\"24px\">\n",
              "    <g>\n",
              "        <path d=\"M19 3H5c-1.1 0-2 .9-2 2v14c0 1.1.9 2 2 2h14c1.1 0 2-.9 2-2V5c0-1.1-.9-2-2-2zM9 17H7v-7h2v7zm4 0h-2V7h2v10zm4 0h-2v-4h2v4z\"/>\n",
              "    </g>\n",
              "</svg>\n",
              "      </button>\n",
              "    </div>\n",
              "\n",
              "<style>\n",
              "  .colab-df-quickchart {\n",
              "    background-color: #E8F0FE;\n",
              "    border: none;\n",
              "    border-radius: 50%;\n",
              "    cursor: pointer;\n",
              "    display: none;\n",
              "    fill: #1967D2;\n",
              "    height: 32px;\n",
              "    padding: 0 0 0 0;\n",
              "    width: 32px;\n",
              "  }\n",
              "\n",
              "  .colab-df-quickchart:hover {\n",
              "    background-color: #E2EBFA;\n",
              "    box-shadow: 0px 1px 2px rgba(60, 64, 67, 0.3), 0px 1px 3px 1px rgba(60, 64, 67, 0.15);\n",
              "    fill: #174EA6;\n",
              "  }\n",
              "\n",
              "  [theme=dark] .colab-df-quickchart {\n",
              "    background-color: #3B4455;\n",
              "    fill: #D2E3FC;\n",
              "  }\n",
              "\n",
              "  [theme=dark] .colab-df-quickchart:hover {\n",
              "    background-color: #434B5C;\n",
              "    box-shadow: 0px 1px 3px 1px rgba(0, 0, 0, 0.15);\n",
              "    filter: drop-shadow(0px 1px 2px rgba(0, 0, 0, 0.3));\n",
              "    fill: #FFFFFF;\n",
              "  }\n",
              "</style>\n",
              "\n",
              "    <script>\n",
              "      async function quickchart(key) {\n",
              "        const containerElement = document.querySelector('#' + key);\n",
              "        const charts = await google.colab.kernel.invokeFunction(\n",
              "            'suggestCharts', [key], {});\n",
              "      }\n",
              "    </script>\n",
              "\n",
              "      <script>\n",
              "\n",
              "function displayQuickchartButton(domScope) {\n",
              "  let quickchartButtonEl =\n",
              "    domScope.querySelector('#df-8d116168-4fbb-410f-b8cd-1e1878bff054 button.colab-df-quickchart');\n",
              "  quickchartButtonEl.style.display =\n",
              "    google.colab.kernel.accessAllowed ? 'block' : 'none';\n",
              "}\n",
              "\n",
              "        displayQuickchartButton(document);\n",
              "      </script>\n",
              "      <style>\n",
              "    .colab-df-container {\n",
              "      display:flex;\n",
              "      flex-wrap:wrap;\n",
              "      gap: 12px;\n",
              "    }\n",
              "\n",
              "    .colab-df-convert {\n",
              "      background-color: #E8F0FE;\n",
              "      border: none;\n",
              "      border-radius: 50%;\n",
              "      cursor: pointer;\n",
              "      display: none;\n",
              "      fill: #1967D2;\n",
              "      height: 32px;\n",
              "      padding: 0 0 0 0;\n",
              "      width: 32px;\n",
              "    }\n",
              "\n",
              "    .colab-df-convert:hover {\n",
              "      background-color: #E2EBFA;\n",
              "      box-shadow: 0px 1px 2px rgba(60, 64, 67, 0.3), 0px 1px 3px 1px rgba(60, 64, 67, 0.15);\n",
              "      fill: #174EA6;\n",
              "    }\n",
              "\n",
              "    [theme=dark] .colab-df-convert {\n",
              "      background-color: #3B4455;\n",
              "      fill: #D2E3FC;\n",
              "    }\n",
              "\n",
              "    [theme=dark] .colab-df-convert:hover {\n",
              "      background-color: #434B5C;\n",
              "      box-shadow: 0px 1px 3px 1px rgba(0, 0, 0, 0.15);\n",
              "      filter: drop-shadow(0px 1px 2px rgba(0, 0, 0, 0.3));\n",
              "      fill: #FFFFFF;\n",
              "    }\n",
              "  </style>\n",
              "\n",
              "      <script>\n",
              "        const buttonEl =\n",
              "          document.querySelector('#df-099e975a-ef7a-4110-8864-c29104c6830e button.colab-df-convert');\n",
              "        buttonEl.style.display =\n",
              "          google.colab.kernel.accessAllowed ? 'block' : 'none';\n",
              "\n",
              "        async function convertToInteractive(key) {\n",
              "          const element = document.querySelector('#df-099e975a-ef7a-4110-8864-c29104c6830e');\n",
              "          const dataTable =\n",
              "            await google.colab.kernel.invokeFunction('convertToInteractive',\n",
              "                                                     [key], {});\n",
              "          if (!dataTable) return;\n",
              "\n",
              "          const docLinkHtml = 'Like what you see? Visit the ' +\n",
              "            '<a target=\"_blank\" href=https://colab.research.google.com/notebooks/data_table.ipynb>data table notebook</a>'\n",
              "            + ' to learn more about interactive tables.';\n",
              "          element.innerHTML = '';\n",
              "          dataTable['output_type'] = 'display_data';\n",
              "          await google.colab.output.renderOutput(dataTable, element);\n",
              "          const docLink = document.createElement('div');\n",
              "          docLink.innerHTML = docLinkHtml;\n",
              "          element.appendChild(docLink);\n",
              "        }\n",
              "      </script>\n",
              "    </div>\n",
              "  </div>\n"
            ]
          },
          "metadata": {},
          "execution_count": 5
        }
      ]
    },
    {
      "cell_type": "code",
      "source": [
        "print(train_data.index)\n",
        "print(len(train_data))"
      ],
      "metadata": {
        "execution": {
          "iopub.status.busy": "2023-08-07T12:42:25.20155Z",
          "iopub.execute_input": "2023-08-07T12:42:25.20271Z",
          "iopub.status.idle": "2023-08-07T12:42:25.209425Z",
          "shell.execute_reply.started": "2023-08-07T12:42:25.202671Z",
          "shell.execute_reply": "2023-08-07T12:42:25.207881Z"
        },
        "trusted": true,
        "id": "k3AnhXtOKcoC"
      },
      "execution_count": null,
      "outputs": []
    },
    {
      "cell_type": "code",
      "source": [
        "train_data.describe()"
      ],
      "metadata": {
        "execution": {
          "iopub.status.busy": "2023-08-07T12:42:30.597797Z",
          "iopub.execute_input": "2023-08-07T12:42:30.598223Z",
          "iopub.status.idle": "2023-08-07T12:42:30.639806Z",
          "shell.execute_reply.started": "2023-08-07T12:42:30.598193Z",
          "shell.execute_reply": "2023-08-07T12:42:30.638365Z"
        },
        "trusted": true,
        "id": "PHOzecY1KcoC"
      },
      "execution_count": null,
      "outputs": []
    },
    {
      "cell_type": "code",
      "source": [
        "test_data.describe()"
      ],
      "metadata": {
        "execution": {
          "iopub.status.busy": "2023-08-07T07:05:41.130945Z",
          "iopub.execute_input": "2023-08-07T07:05:41.131358Z",
          "iopub.status.idle": "2023-08-07T07:05:41.164777Z",
          "shell.execute_reply.started": "2023-08-07T07:05:41.131325Z",
          "shell.execute_reply": "2023-08-07T07:05:41.163498Z"
        },
        "trusted": true,
        "id": "dztQFCYIKcoD"
      },
      "execution_count": null,
      "outputs": []
    },
    {
      "cell_type": "code",
      "source": [
        "test_data[test_data[\"Parch\"] > 5]"
      ],
      "metadata": {
        "execution": {
          "iopub.status.busy": "2023-08-07T07:05:42.209872Z",
          "iopub.execute_input": "2023-08-07T07:05:42.210293Z",
          "iopub.status.idle": "2023-08-07T07:05:42.23263Z",
          "shell.execute_reply.started": "2023-08-07T07:05:42.210259Z",
          "shell.execute_reply": "2023-08-07T07:05:42.231434Z"
        },
        "trusted": true,
        "id": "txvhA8njKcoD"
      },
      "execution_count": null,
      "outputs": []
    },
    {
      "cell_type": "markdown",
      "source": [
        "後ほど、\"Parch\" の値 9 は外れ値であると看做して、6に置き換える。<br>\n",
        "Later, the value 9 for \"Parch\" shall be considered an outlier and replaced with 6."
      ],
      "metadata": {
        "id": "61vCz8pYKcoD"
      }
    },
    {
      "cell_type": "code",
      "source": [
        "train_data.isnull()"
      ],
      "metadata": {
        "_kg_hide-input": false,
        "_kg_hide-output": false,
        "scrolled": true,
        "execution": {
          "iopub.status.busy": "2023-08-07T07:05:44.354741Z",
          "iopub.execute_input": "2023-08-07T07:05:44.355152Z",
          "iopub.status.idle": "2023-08-07T07:05:44.74226Z",
          "shell.execute_reply.started": "2023-08-07T07:05:44.35512Z",
          "shell.execute_reply": "2023-08-07T07:05:44.741223Z"
        },
        "trusted": true,
        "id": "spvgqlo1KcoE"
      },
      "execution_count": null,
      "outputs": []
    },
    {
      "cell_type": "code",
      "source": [
        "train_data.shape"
      ],
      "metadata": {
        "execution": {
          "iopub.status.busy": "2023-08-07T07:05:45.978493Z",
          "iopub.execute_input": "2023-08-07T07:05:45.979431Z",
          "iopub.status.idle": "2023-08-07T07:05:45.985902Z",
          "shell.execute_reply.started": "2023-08-07T07:05:45.979394Z",
          "shell.execute_reply": "2023-08-07T07:05:45.984873Z"
        },
        "trusted": true,
        "id": "cbsQ9FfrKcoF"
      },
      "execution_count": null,
      "outputs": []
    },
    {
      "cell_type": "code",
      "source": [
        "train_data.isnull().any()"
      ],
      "metadata": {
        "execution": {
          "iopub.status.busy": "2023-08-07T07:05:47.241975Z",
          "iopub.execute_input": "2023-08-07T07:05:47.242381Z",
          "iopub.status.idle": "2023-08-07T07:05:47.252392Z",
          "shell.execute_reply.started": "2023-08-07T07:05:47.24235Z",
          "shell.execute_reply": "2023-08-07T07:05:47.251586Z"
        },
        "trusted": true,
        "id": "sNrs8IsXKcoF"
      },
      "execution_count": null,
      "outputs": []
    },
    {
      "cell_type": "code",
      "source": [
        "train_data.isnull().any(axis=1)"
      ],
      "metadata": {
        "scrolled": true,
        "execution": {
          "iopub.status.busy": "2023-08-07T07:05:48.343313Z",
          "iopub.execute_input": "2023-08-07T07:05:48.344011Z",
          "iopub.status.idle": "2023-08-07T07:05:48.368508Z",
          "shell.execute_reply.started": "2023-08-07T07:05:48.343977Z",
          "shell.execute_reply": "2023-08-07T07:05:48.367067Z"
        },
        "trusted": true,
        "id": "QMYdY99qKcoF"
      },
      "execution_count": null,
      "outputs": []
    },
    {
      "cell_type": "code",
      "source": [
        "train_data.isnull().any(axis=1).sum()"
      ],
      "metadata": {
        "execution": {
          "iopub.status.busy": "2023-08-07T07:05:49.777349Z",
          "iopub.execute_input": "2023-08-07T07:05:49.778159Z",
          "iopub.status.idle": "2023-08-07T07:05:49.788299Z",
          "shell.execute_reply.started": "2023-08-07T07:05:49.778118Z",
          "shell.execute_reply": "2023-08-07T07:05:49.786899Z"
        },
        "trusted": true,
        "id": "FJAdA-2AKcoG"
      },
      "execution_count": null,
      "outputs": []
    },
    {
      "cell_type": "code",
      "source": [
        "train_data.loc[:, \"Age\"]"
      ],
      "metadata": {
        "scrolled": true,
        "execution": {
          "iopub.status.busy": "2023-08-07T07:05:50.948935Z",
          "iopub.execute_input": "2023-08-07T07:05:50.949374Z",
          "iopub.status.idle": "2023-08-07T07:05:50.995224Z",
          "shell.execute_reply.started": "2023-08-07T07:05:50.949338Z",
          "shell.execute_reply": "2023-08-07T07:05:50.994089Z"
        },
        "trusted": true,
        "id": "iD3YJNJJKcoG"
      },
      "execution_count": null,
      "outputs": []
    },
    {
      "cell_type": "code",
      "source": [
        "print(train_data.loc[:, \"Age\"].isnull().sum())\n",
        "print(train_data.loc[:, \"Cabin\"].isnull().sum())\n",
        "print(train_data.loc[:, \"Embarked\"].isnull().sum())"
      ],
      "metadata": {
        "execution": {
          "iopub.status.busy": "2023-08-07T07:05:52.091366Z",
          "iopub.execute_input": "2023-08-07T07:05:52.092169Z",
          "iopub.status.idle": "2023-08-07T07:05:52.100814Z",
          "shell.execute_reply.started": "2023-08-07T07:05:52.092131Z",
          "shell.execute_reply": "2023-08-07T07:05:52.099829Z"
        },
        "trusted": true,
        "id": "7b_6PcuzKcoG"
      },
      "execution_count": null,
      "outputs": []
    },
    {
      "cell_type": "code",
      "source": [
        "train_data[train_data.loc[:, \"Embarked\"].isnull()]"
      ],
      "metadata": {
        "execution": {
          "iopub.status.busy": "2023-08-07T07:05:53.499337Z",
          "iopub.execute_input": "2023-08-07T07:05:53.500193Z",
          "iopub.status.idle": "2023-08-07T07:05:53.517591Z",
          "shell.execute_reply.started": "2023-08-07T07:05:53.500148Z",
          "shell.execute_reply": "2023-08-07T07:05:53.516335Z"
        },
        "trusted": true,
        "id": "PQemWbCaKcoG"
      },
      "execution_count": null,
      "outputs": []
    },
    {
      "cell_type": "code",
      "source": [
        "train_data[train_data.loc[:, \"Age\"].isnull()]"
      ],
      "metadata": {
        "scrolled": true,
        "execution": {
          "iopub.status.busy": "2023-08-07T07:05:54.544762Z",
          "iopub.execute_input": "2023-08-07T07:05:54.5452Z",
          "iopub.status.idle": "2023-08-07T07:05:54.629793Z",
          "shell.execute_reply.started": "2023-08-07T07:05:54.545165Z",
          "shell.execute_reply": "2023-08-07T07:05:54.628013Z"
        },
        "trusted": true,
        "id": "RPaL3y5OKcoG"
      },
      "execution_count": null,
      "outputs": []
    },
    {
      "cell_type": "code",
      "source": [
        "train_data[\"Age\"].sort_values()"
      ],
      "metadata": {
        "scrolled": true,
        "execution": {
          "iopub.status.busy": "2023-08-07T07:05:55.442779Z",
          "iopub.execute_input": "2023-08-07T07:05:55.443169Z",
          "iopub.status.idle": "2023-08-07T07:05:55.491099Z",
          "shell.execute_reply.started": "2023-08-07T07:05:55.443139Z",
          "shell.execute_reply": "2023-08-07T07:05:55.490051Z"
        },
        "trusted": true,
        "id": "32gaTqUqKcoG"
      },
      "execution_count": null,
      "outputs": []
    },
    {
      "cell_type": "code",
      "source": [
        "processed_train_data = train_data.loc[:, [\"Survived\", \"Pclass\", \"Sex\", \"Age\", \"SibSp\", \"Parch\", \"Fare\", \"Embarked\"]]\n",
        "print(processed_train_data.dtypes)\n",
        "processed_train_data = processed_train_data.replace({\"male\": 0, \"female\": 1})\n",
        "processed_train_data = processed_train_data.replace({\"C\": 0, \"Q\": 1, \"S\": 2})\n",
        "processed_train_data[\"Pclass\"] -= 1\n",
        "processed_train_data[\"Age\"] = processed_train_data[\"Age\"].mask(processed_train_data[\"Age\"] < 1, 0)\n",
        "print(processed_train_data.dtypes)\n",
        "processed_train_data"
      ],
      "metadata": {
        "scrolled": true,
        "execution": {
          "iopub.status.busy": "2023-08-07T12:42:47.857838Z",
          "iopub.execute_input": "2023-08-07T12:42:47.858257Z",
          "iopub.status.idle": "2023-08-07T12:42:48.255888Z",
          "shell.execute_reply.started": "2023-08-07T12:42:47.858226Z",
          "shell.execute_reply": "2023-08-07T12:42:48.254775Z"
        },
        "trusted": true,
        "id": "0Z6oBFS_KcoH"
      },
      "execution_count": null,
      "outputs": []
    },
    {
      "cell_type": "code",
      "source": [
        "processed_test_data = test_data.loc[:, [\"PassengerId\", \"Pclass\", \"Sex\", \"Age\", \"SibSp\", \"Parch\", \"Fare\", \"Embarked\"]]\n",
        "print(processed_test_data.dtypes)\n",
        "processed_test_data = processed_test_data.replace({\"male\": 0, \"female\": 1})\n",
        "processed_test_data = processed_test_data.replace({\"C\": 0, \"Q\": 1, \"S\": 2})\n",
        "processed_test_data [\"Pclass\"] -= 1\n",
        "processed_test_data[\"Age\"] = processed_test_data[\"Age\"].mask(processed_test_data[\"Age\"] < 1, 0)\n",
        "print(processed_test_data.dtypes)\n",
        "processed_test_data"
      ],
      "metadata": {
        "scrolled": true,
        "execution": {
          "iopub.status.busy": "2023-08-07T12:42:53.695794Z",
          "iopub.execute_input": "2023-08-07T12:42:53.69642Z",
          "iopub.status.idle": "2023-08-07T12:42:53.869056Z",
          "shell.execute_reply.started": "2023-08-07T12:42:53.696373Z",
          "shell.execute_reply": "2023-08-07T12:42:53.868098Z"
        },
        "trusted": true,
        "id": "43fd5WVVKcoH"
      },
      "execution_count": null,
      "outputs": []
    },
    {
      "cell_type": "code",
      "source": [
        "processed_train_data.describe()"
      ],
      "metadata": {
        "execution": {
          "iopub.status.busy": "2023-08-07T07:05:59.241144Z",
          "iopub.execute_input": "2023-08-07T07:05:59.241591Z",
          "iopub.status.idle": "2023-08-07T07:05:59.281244Z",
          "shell.execute_reply.started": "2023-08-07T07:05:59.241551Z",
          "shell.execute_reply": "2023-08-07T07:05:59.279996Z"
        },
        "trusted": true,
        "id": "bXtimdIeKcoH"
      },
      "execution_count": null,
      "outputs": []
    },
    {
      "cell_type": "code",
      "source": [
        "processed_test_data.describe()"
      ],
      "metadata": {
        "execution": {
          "iopub.status.busy": "2023-08-07T07:06:00.464272Z",
          "iopub.execute_input": "2023-08-07T07:06:00.464732Z",
          "iopub.status.idle": "2023-08-07T07:06:00.505771Z",
          "shell.execute_reply.started": "2023-08-07T07:06:00.464693Z",
          "shell.execute_reply": "2023-08-07T07:06:00.504472Z"
        },
        "trusted": true,
        "id": "cm3ZX1VWKcoH"
      },
      "execution_count": null,
      "outputs": []
    },
    {
      "cell_type": "code",
      "source": [
        "processed_train_data.isnull().any()"
      ],
      "metadata": {
        "execution": {
          "iopub.status.busy": "2023-08-07T07:06:01.607911Z",
          "iopub.execute_input": "2023-08-07T07:06:01.608301Z",
          "iopub.status.idle": "2023-08-07T07:06:01.619052Z",
          "shell.execute_reply.started": "2023-08-07T07:06:01.608272Z",
          "shell.execute_reply": "2023-08-07T07:06:01.617885Z"
        },
        "trusted": true,
        "id": "-lSyPQX5KcoH"
      },
      "execution_count": null,
      "outputs": []
    },
    {
      "cell_type": "code",
      "source": [
        "print(processed_test_data.isnull().any())\n",
        "processed_test_data[processed_test_data[\"Fare\"].isnull()]"
      ],
      "metadata": {
        "execution": {
          "iopub.status.busy": "2023-08-07T07:06:02.835102Z",
          "iopub.execute_input": "2023-08-07T07:06:02.836186Z",
          "iopub.status.idle": "2023-08-07T07:06:02.85324Z",
          "shell.execute_reply.started": "2023-08-07T07:06:02.836145Z",
          "shell.execute_reply": "2023-08-07T07:06:02.851781Z"
        },
        "trusted": true,
        "id": "Yds2OLCuKcoH"
      },
      "execution_count": null,
      "outputs": []
    },
    {
      "cell_type": "code",
      "source": [
        "processed_test_data[\"Parch\"][processed_test_data[\"Parch\"] == 9]"
      ],
      "metadata": {
        "execution": {
          "iopub.status.busy": "2023-08-07T07:06:03.927573Z",
          "iopub.execute_input": "2023-08-07T07:06:03.928003Z",
          "iopub.status.idle": "2023-08-07T07:06:03.937545Z",
          "shell.execute_reply.started": "2023-08-07T07:06:03.927969Z",
          "shell.execute_reply": "2023-08-07T07:06:03.936244Z"
        },
        "trusted": true,
        "id": "0MomoKy2KcoI"
      },
      "execution_count": null,
      "outputs": []
    },
    {
      "cell_type": "code",
      "source": [
        "# The value 9 for \"Parch\" shall be considered an outlier and replaced with 6.\n",
        "processed_test_data.loc[342, \"Parch\"] = 6\n",
        "processed_test_data.loc[365, \"Parch\"] = 6\n",
        "processed_test_data.describe()"
      ],
      "metadata": {
        "execution": {
          "iopub.status.busy": "2023-08-07T12:43:06.159063Z",
          "iopub.execute_input": "2023-08-07T12:43:06.159604Z",
          "iopub.status.idle": "2023-08-07T12:43:06.203719Z",
          "shell.execute_reply.started": "2023-08-07T12:43:06.159565Z",
          "shell.execute_reply": "2023-08-07T12:43:06.202149Z"
        },
        "trusted": true,
        "id": "Zr9wXKTIKcoI"
      },
      "execution_count": null,
      "outputs": []
    },
    {
      "cell_type": "markdown",
      "source": [
        "後で、SibSp, Fare, Parch は正規化する。<br>\n",
        "Later, normalize the features SibSp, Fare and Parch."
      ],
      "metadata": {
        "id": "1FaNdEq2KcoI"
      }
    },
    {
      "cell_type": "code",
      "source": [
        "train_data[train_data[\"Fare\"] == 0.0]"
      ],
      "metadata": {
        "execution": {
          "iopub.status.busy": "2023-08-07T07:06:08.027935Z",
          "iopub.execute_input": "2023-08-07T07:06:08.028346Z",
          "iopub.status.idle": "2023-08-07T07:06:08.055724Z",
          "shell.execute_reply.started": "2023-08-07T07:06:08.028315Z",
          "shell.execute_reply": "2023-08-07T07:06:08.054588Z"
        },
        "trusted": true,
        "id": "yuEXorTgKcoI"
      },
      "execution_count": null,
      "outputs": []
    },
    {
      "cell_type": "code",
      "source": [
        "test_data[test_data[\"Fare\"] == 0.0]"
      ],
      "metadata": {
        "execution": {
          "iopub.status.busy": "2023-08-07T07:06:09.074055Z",
          "iopub.execute_input": "2023-08-07T07:06:09.07446Z",
          "iopub.status.idle": "2023-08-07T07:06:09.091724Z",
          "shell.execute_reply.started": "2023-08-07T07:06:09.074429Z",
          "shell.execute_reply": "2023-08-07T07:06:09.090586Z"
        },
        "trusted": true,
        "id": "rzf9ZBnlKcoI"
      },
      "execution_count": null,
      "outputs": []
    },
    {
      "cell_type": "markdown",
      "source": [
        "運賃 0？　この不思議な乗客たちはどうすべきか。<br>\n",
        "Fare 0?  What to do with this strange passengers."
      ],
      "metadata": {
        "id": "0CAclx3tKcoJ"
      }
    },
    {
      "cell_type": "code",
      "source": [
        "train_data[\"Fare\"].hist(by=train_data[\"Pclass\"], bins=100)"
      ],
      "metadata": {
        "execution": {
          "iopub.status.busy": "2023-08-07T07:06:11.811912Z",
          "iopub.execute_input": "2023-08-07T07:06:11.812838Z",
          "iopub.status.idle": "2023-08-07T07:06:13.315996Z",
          "shell.execute_reply.started": "2023-08-07T07:06:11.812801Z",
          "shell.execute_reply": "2023-08-07T07:06:13.314717Z"
        },
        "trusted": true,
        "id": "USRqv4hPKcoJ"
      },
      "execution_count": null,
      "outputs": []
    },
    {
      "cell_type": "code",
      "source": [
        "test_data[\"Fare\"].hist(by=test_data[\"Pclass\"], bins=100)"
      ],
      "metadata": {
        "execution": {
          "iopub.status.busy": "2023-08-07T07:06:13.998511Z",
          "iopub.execute_input": "2023-08-07T07:06:13.999296Z",
          "iopub.status.idle": "2023-08-07T07:06:15.260141Z",
          "shell.execute_reply.started": "2023-08-07T07:06:13.99926Z",
          "shell.execute_reply": "2023-08-07T07:06:15.258902Z"
        },
        "trusted": true,
        "id": "CwiWBCdPKcoJ"
      },
      "execution_count": null,
      "outputs": []
    },
    {
      "cell_type": "code",
      "source": [
        "print(processed_train_data.groupby(\"Pclass\")[\"Fare\"].apply(lambda x: x.mode()))\n",
        "#print(processed_train_data.groupby(\"Pclass\")[\"Fare\"].mode()) # Why don't work?\n",
        "processed_train_data.groupby(\"Pclass\")[\"Fare\"].describe()"
      ],
      "metadata": {
        "execution": {
          "iopub.status.busy": "2023-08-07T07:06:15.905701Z",
          "iopub.execute_input": "2023-08-07T07:06:15.906423Z",
          "iopub.status.idle": "2023-08-07T07:06:15.942206Z",
          "shell.execute_reply.started": "2023-08-07T07:06:15.90639Z",
          "shell.execute_reply": "2023-08-07T07:06:15.940958Z"
        },
        "trusted": true,
        "id": "v1C_LfMdKcoJ"
      },
      "execution_count": null,
      "outputs": []
    },
    {
      "cell_type": "code",
      "source": [
        "print(processed_test_data.groupby(\"Pclass\")[\"Fare\"].apply(lambda x: x.mode()))\n",
        "processed_test_data.groupby(\"Pclass\")[\"Fare\"].describe()"
      ],
      "metadata": {
        "execution": {
          "iopub.status.busy": "2023-08-07T07:06:17.155501Z",
          "iopub.execute_input": "2023-08-07T07:06:17.1559Z",
          "iopub.status.idle": "2023-08-07T07:06:17.189623Z",
          "shell.execute_reply.started": "2023-08-07T07:06:17.15587Z",
          "shell.execute_reply": "2023-08-07T07:06:17.188242Z"
        },
        "trusted": true,
        "id": "sIw1_EXOKcoJ"
      },
      "execution_count": null,
      "outputs": []
    },
    {
      "cell_type": "code",
      "source": [
        "len(train_data[train_data[\"Fare\"] == 0.0])"
      ],
      "metadata": {
        "execution": {
          "iopub.status.busy": "2023-08-07T07:06:18.153756Z",
          "iopub.execute_input": "2023-08-07T07:06:18.154187Z",
          "iopub.status.idle": "2023-08-07T07:06:18.161858Z",
          "shell.execute_reply.started": "2023-08-07T07:06:18.15415Z",
          "shell.execute_reply": "2023-08-07T07:06:18.160576Z"
        },
        "trusted": true,
        "id": "WbIMRMrYKcoJ"
      },
      "execution_count": null,
      "outputs": []
    },
    {
      "cell_type": "markdown",
      "source": [
        "運賃 0 は集計のミスではないかと疑い、補正することを考えたが、15人中14人が死亡しているのは顕著な特徴と言える。運賃 0 は集計のミスによるものではなく、何か特殊な乗客を示す属性と考えられるので、このまま採用する。<br>\n",
        "\n",
        "I suspected that the fare 0 might be an error in tabulation and considered correcting for it, but 14 of the 15 deaths is a remarkable features.  Since fare 0 is not due to an error in tabulation, but is considered an attribute that indicates some special passenger, it is adopted as is."
      ],
      "metadata": {
        "id": "VlqRKqFLKcoK"
      }
    },
    {
      "cell_type": "code",
      "source": [
        "processed_train_data.corr(method=\"pearson\")"
      ],
      "metadata": {
        "execution": {
          "iopub.status.busy": "2023-08-07T07:06:20.864303Z",
          "iopub.execute_input": "2023-08-07T07:06:20.86545Z",
          "iopub.status.idle": "2023-08-07T07:06:20.88585Z",
          "shell.execute_reply.started": "2023-08-07T07:06:20.86541Z",
          "shell.execute_reply": "2023-08-07T07:06:20.88473Z"
        },
        "trusted": true,
        "id": "O7lItxs3KcoK"
      },
      "execution_count": null,
      "outputs": []
    },
    {
      "cell_type": "code",
      "source": [
        "import matplotlib.pyplot as plt\n",
        "from pylab import rcParams"
      ],
      "metadata": {
        "execution": {
          "iopub.status.busy": "2023-08-07T12:43:26.173688Z",
          "iopub.execute_input": "2023-08-07T12:43:26.174183Z",
          "iopub.status.idle": "2023-08-07T12:43:26.183932Z",
          "shell.execute_reply.started": "2023-08-07T12:43:26.174148Z",
          "shell.execute_reply": "2023-08-07T12:43:26.182709Z"
        },
        "trusted": true,
        "id": "0rcWe8pfKcoK"
      },
      "execution_count": null,
      "outputs": []
    },
    {
      "cell_type": "code",
      "source": [
        "rcParams[\"figure.figsize\"] = 6, 4\n",
        "heatmap = plt.imshow(processed_train_data.corr(method=\"pearson\"), cmap=\"bwr\", vmax=1, vmin=-1)\n",
        "plt.colorbar(heatmap)\n",
        "# Survived Pclass Sex Age SibSp Parch Fare Embarked"
      ],
      "metadata": {
        "execution": {
          "iopub.status.busy": "2023-08-07T07:06:23.070817Z",
          "iopub.execute_input": "2023-08-07T07:06:23.07124Z",
          "iopub.status.idle": "2023-08-07T07:06:23.490552Z",
          "shell.execute_reply.started": "2023-08-07T07:06:23.071204Z",
          "shell.execute_reply": "2023-08-07T07:06:23.489222Z"
        },
        "trusted": true,
        "id": "GYhj5icKKcoP"
      },
      "execution_count": null,
      "outputs": []
    },
    {
      "cell_type": "code",
      "source": [
        "processed_train_data_dropna = processed_train_data.dropna(subset=[\"Age\"])\n",
        "print(len(processed_train_data_dropna))\n",
        "processed_train_data_dropna.isnull().any()"
      ],
      "metadata": {
        "execution": {
          "iopub.status.busy": "2023-08-07T07:06:24.043479Z",
          "iopub.execute_input": "2023-08-07T07:06:24.043943Z",
          "iopub.status.idle": "2023-08-07T07:06:24.0576Z",
          "shell.execute_reply.started": "2023-08-07T07:06:24.043907Z",
          "shell.execute_reply": "2023-08-07T07:06:24.056353Z"
        },
        "trusted": true,
        "id": "k8_uUEv7KcoQ"
      },
      "execution_count": null,
      "outputs": []
    },
    {
      "cell_type": "markdown",
      "source": [
        "\"Age\" には NA値が多いため、\"Age\" に NA値を持つ行を削除して相関に変化があるかを検証。結果、ほとんど変化なし。<br>\n",
        "\"Age\" has many NA values, so we removed rows with NA values in \"Age\" and verified if the correlation changed. The result was almost no change."
      ],
      "metadata": {
        "id": "wjl7NlnDKcoQ"
      }
    },
    {
      "cell_type": "code",
      "source": [
        "processed_train_data_dropna.corr(method=\"pearson\")"
      ],
      "metadata": {
        "execution": {
          "iopub.status.busy": "2023-08-07T07:06:27.015429Z",
          "iopub.execute_input": "2023-08-07T07:06:27.015912Z",
          "iopub.status.idle": "2023-08-07T07:06:27.037208Z",
          "shell.execute_reply.started": "2023-08-07T07:06:27.015879Z",
          "shell.execute_reply": "2023-08-07T07:06:27.03622Z"
        },
        "trusted": true,
        "id": "7lmTnz-kKcoQ"
      },
      "execution_count": null,
      "outputs": []
    },
    {
      "cell_type": "code",
      "source": [
        "heatmap2 = plt.imshow(processed_train_data_dropna.corr(method=\"pearson\"), cmap=\"bwr\", vmax=1, vmin=-1)\n",
        "plt.colorbar(heatmap2)"
      ],
      "metadata": {
        "execution": {
          "iopub.status.busy": "2023-08-07T07:06:27.804857Z",
          "iopub.execute_input": "2023-08-07T07:06:27.805255Z",
          "iopub.status.idle": "2023-08-07T07:06:28.226124Z",
          "shell.execute_reply.started": "2023-08-07T07:06:27.805218Z",
          "shell.execute_reply": "2023-08-07T07:06:28.224881Z"
        },
        "trusted": true,
        "id": "Hq3f3-5lKcoQ"
      },
      "execution_count": null,
      "outputs": []
    },
    {
      "cell_type": "markdown",
      "source": [
        "Replace the age of children under 1 year old with 0."
      ],
      "metadata": {
        "id": "jzVeMiDMKcoQ"
      }
    },
    {
      "cell_type": "code",
      "source": [
        "rcParams[\"figure.figsize\"] = 10, 10\n",
        "processed_train_data.hist()"
      ],
      "metadata": {
        "execution": {
          "iopub.status.busy": "2023-08-07T07:06:29.906756Z",
          "iopub.execute_input": "2023-08-07T07:06:29.907173Z",
          "iopub.status.idle": "2023-08-07T07:06:31.99701Z",
          "shell.execute_reply.started": "2023-08-07T07:06:29.907141Z",
          "shell.execute_reply": "2023-08-07T07:06:31.995267Z"
        },
        "trusted": true,
        "id": "bfVzAtNWKcoR"
      },
      "execution_count": null,
      "outputs": []
    },
    {
      "cell_type": "code",
      "source": [
        "rcParams[\"figure.figsize\"] = 6, 4\n",
        "processed_train_data[\"Age\"].hist(bins=81)"
      ],
      "metadata": {
        "execution": {
          "iopub.status.busy": "2023-08-07T07:06:31.999366Z",
          "iopub.execute_input": "2023-08-07T07:06:32.000139Z",
          "iopub.status.idle": "2023-08-07T07:06:32.44757Z",
          "shell.execute_reply.started": "2023-08-07T07:06:32.000094Z",
          "shell.execute_reply": "2023-08-07T07:06:32.446328Z"
        },
        "trusted": true,
        "id": "sK5Hc-uZKcoR"
      },
      "execution_count": null,
      "outputs": []
    },
    {
      "cell_type": "code",
      "source": [
        "processed_train_data[\"Age\"].hist(by=processed_train_data[\"Survived\"], bins=81)"
      ],
      "metadata": {
        "execution": {
          "iopub.status.busy": "2023-08-07T07:06:32.712015Z",
          "iopub.execute_input": "2023-08-07T07:06:32.712453Z",
          "iopub.status.idle": "2023-08-07T07:06:33.526059Z",
          "shell.execute_reply.started": "2023-08-07T07:06:32.712418Z",
          "shell.execute_reply": "2023-08-07T07:06:33.524805Z"
        },
        "trusted": true,
        "id": "BBuSVRteKcoR"
      },
      "execution_count": null,
      "outputs": []
    },
    {
      "cell_type": "code",
      "source": [
        "processed_train_data[\"Survived\"].hist(by=processed_train_data[\"Sex\"])"
      ],
      "metadata": {
        "execution": {
          "iopub.status.busy": "2023-08-07T07:06:34.084812Z",
          "iopub.execute_input": "2023-08-07T07:06:34.085206Z",
          "iopub.status.idle": "2023-08-07T07:06:34.619049Z",
          "shell.execute_reply.started": "2023-08-07T07:06:34.085172Z",
          "shell.execute_reply": "2023-08-07T07:06:34.617737Z"
        },
        "trusted": true,
        "id": "SuAhJ88MKcoR"
      },
      "execution_count": null,
      "outputs": []
    },
    {
      "cell_type": "code",
      "source": [
        "rcParams[\"figure.figsize\"] = 7, 5\n",
        "processed_train_data[\"Survived\"].hist(by=processed_train_data[\"Pclass\"])"
      ],
      "metadata": {
        "execution": {
          "iopub.status.busy": "2023-08-07T07:06:35.249916Z",
          "iopub.execute_input": "2023-08-07T07:06:35.250918Z",
          "iopub.status.idle": "2023-08-07T07:06:35.990184Z",
          "shell.execute_reply.started": "2023-08-07T07:06:35.25087Z",
          "shell.execute_reply": "2023-08-07T07:06:35.989286Z"
        },
        "trusted": true,
        "id": "3iEDfISeKcoR"
      },
      "execution_count": null,
      "outputs": []
    },
    {
      "cell_type": "code",
      "source": [
        "rcParams[\"figure.figsize\"] = 8, 8\n",
        "processed_train_data[\"Survived\"].hist(by=processed_train_data[\"Embarked\"])"
      ],
      "metadata": {
        "execution": {
          "iopub.status.busy": "2023-08-07T07:06:36.626815Z",
          "iopub.execute_input": "2023-08-07T07:06:36.627232Z",
          "iopub.status.idle": "2023-08-07T07:06:37.431221Z",
          "shell.execute_reply.started": "2023-08-07T07:06:36.627201Z",
          "shell.execute_reply": "2023-08-07T07:06:37.430012Z"
        },
        "trusted": true,
        "id": "TRhhL6NVKcoS"
      },
      "execution_count": null,
      "outputs": []
    },
    {
      "cell_type": "code",
      "source": [
        "rcParams[\"figure.figsize\"] = 8, 8\n",
        "processed_train_data[\"Survived\"].hist(by=processed_train_data[\"Embarked\"])"
      ],
      "metadata": {
        "execution": {
          "iopub.status.busy": "2023-08-07T07:06:37.916998Z",
          "iopub.execute_input": "2023-08-07T07:06:37.917448Z",
          "iopub.status.idle": "2023-08-07T07:06:38.726197Z",
          "shell.execute_reply.started": "2023-08-07T07:06:37.917411Z",
          "shell.execute_reply": "2023-08-07T07:06:38.724827Z"
        },
        "trusted": true,
        "id": "81Jq9P2LKcoS"
      },
      "execution_count": null,
      "outputs": []
    },
    {
      "cell_type": "code",
      "source": [
        "processed_train_data[\"Pclass\"].hist(by=processed_train_data[\"Embarked\"])"
      ],
      "metadata": {
        "execution": {
          "iopub.status.busy": "2023-08-07T07:06:39.204575Z",
          "iopub.execute_input": "2023-08-07T07:06:39.204977Z",
          "iopub.status.idle": "2023-08-07T07:06:40.228358Z",
          "shell.execute_reply.started": "2023-08-07T07:06:39.204947Z",
          "shell.execute_reply": "2023-08-07T07:06:40.227122Z"
        },
        "trusted": true,
        "id": "FbCgPPrZKcoS"
      },
      "execution_count": null,
      "outputs": []
    },
    {
      "cell_type": "markdown",
      "source": [
        "シェルブールから乗船する乗客だけ生存率が高いのは、おそらくシェルブールからの乗客の多くが上流階級だからだろう。<br>\n",
        "The survival rate is high only for passengers embarking from Cherbourg, perhaps because many of the passengers from Cherbourg are upper class."
      ],
      "metadata": {
        "id": "IazWDAOoKcoS"
      }
    },
    {
      "cell_type": "code",
      "source": [
        "rcParams[\"figure.figsize\"] = 10, 10\n",
        "processed_train_data[\"Survived\"].hist(by=processed_train_data[\"SibSp\"])"
      ],
      "metadata": {
        "execution": {
          "iopub.status.busy": "2023-08-07T07:06:42.885805Z",
          "iopub.execute_input": "2023-08-07T07:06:42.886251Z",
          "iopub.status.idle": "2023-08-07T07:06:44.554078Z",
          "shell.execute_reply.started": "2023-08-07T07:06:42.886217Z",
          "shell.execute_reply": "2023-08-07T07:06:44.552861Z"
        },
        "trusted": true,
        "id": "LZPRq0_DKcoS"
      },
      "execution_count": null,
      "outputs": []
    },
    {
      "cell_type": "code",
      "source": [
        "processed_train_data[\"Survived\"].hist(by=processed_train_data[\"Parch\"])"
      ],
      "metadata": {
        "execution": {
          "iopub.status.busy": "2023-08-07T07:06:45.170266Z",
          "iopub.execute_input": "2023-08-07T07:06:45.171252Z",
          "iopub.status.idle": "2023-08-07T07:06:46.888893Z",
          "shell.execute_reply.started": "2023-08-07T07:06:45.171215Z",
          "shell.execute_reply": "2023-08-07T07:06:46.887569Z"
        },
        "trusted": true,
        "id": "4tIyt2MEKcoT"
      },
      "execution_count": null,
      "outputs": []
    },
    {
      "cell_type": "code",
      "source": [
        "rcParams[\"figure.figsize\"] = 20, 20\n",
        "processed_train_data.hist(\"Fare\", bins=50)"
      ],
      "metadata": {
        "execution": {
          "iopub.status.busy": "2023-08-07T07:06:47.482456Z",
          "iopub.execute_input": "2023-08-07T07:06:47.48289Z",
          "iopub.status.idle": "2023-08-07T07:06:48.102754Z",
          "shell.execute_reply.started": "2023-08-07T07:06:47.482857Z",
          "shell.execute_reply": "2023-08-07T07:06:48.101679Z"
        },
        "trusted": true,
        "id": "Vu2MaIRiKcoT"
      },
      "execution_count": null,
      "outputs": []
    },
    {
      "cell_type": "code",
      "source": [
        "print(processed_train_data[processed_train_data[\"Fare\"] > 300])"
      ],
      "metadata": {
        "execution": {
          "iopub.status.busy": "2023-08-07T07:06:48.830085Z",
          "iopub.execute_input": "2023-08-07T07:06:48.830484Z",
          "iopub.status.idle": "2023-08-07T07:06:48.841613Z",
          "shell.execute_reply.started": "2023-08-07T07:06:48.830452Z",
          "shell.execute_reply": "2023-08-07T07:06:48.840155Z"
        },
        "trusted": true,
        "id": "qg9sLCd8KcoT"
      },
      "execution_count": null,
      "outputs": []
    },
    {
      "cell_type": "markdown",
      "source": [
        "彼らは特別な富裕層。<br>\n",
        "They are a special wealthy group."
      ],
      "metadata": {
        "id": "dN4tLJ8WKcoT"
      }
    },
    {
      "cell_type": "code",
      "source": [
        "print(processed_train_data[processed_train_data[\"Fare\"] > 200].sort_values(\"Fare\"))"
      ],
      "metadata": {
        "execution": {
          "iopub.status.busy": "2023-08-07T07:06:52.250257Z",
          "iopub.execute_input": "2023-08-07T07:06:52.25072Z",
          "iopub.status.idle": "2023-08-07T07:06:52.265188Z",
          "shell.execute_reply.started": "2023-08-07T07:06:52.250685Z",
          "shell.execute_reply": "2023-08-07T07:06:52.264217Z"
        },
        "trusted": true,
        "id": "VnBcb4JZKcoU"
      },
      "execution_count": null,
      "outputs": []
    },
    {
      "cell_type": "markdown",
      "source": [
        "金持ちは助かる率が高そうである。<br>\n",
        "The rich seem to have a higher rate of survival."
      ],
      "metadata": {
        "id": "LMaKgkJmKcoU"
      }
    },
    {
      "cell_type": "code",
      "source": [
        "import torch"
      ],
      "metadata": {
        "execution": {
          "iopub.status.busy": "2023-08-07T12:44:07.065842Z",
          "iopub.execute_input": "2023-08-07T12:44:07.066354Z",
          "iopub.status.idle": "2023-08-07T12:44:10.713911Z",
          "shell.execute_reply.started": "2023-08-07T12:44:07.066317Z",
          "shell.execute_reply": "2023-08-07T12:44:10.712545Z"
        },
        "trusted": true,
        "id": "syD4LWS4KcoU"
      },
      "execution_count": null,
      "outputs": []
    },
    {
      "cell_type": "code",
      "source": [
        "processed_train_data.describe()"
      ],
      "metadata": {
        "execution": {
          "iopub.status.busy": "2023-08-07T07:06:58.5722Z",
          "iopub.execute_input": "2023-08-07T07:06:58.572889Z",
          "iopub.status.idle": "2023-08-07T07:06:58.613145Z",
          "shell.execute_reply.started": "2023-08-07T07:06:58.572855Z",
          "shell.execute_reply": "2023-08-07T07:06:58.612002Z"
        },
        "trusted": true,
        "id": "HX9A5_NXKcoU"
      },
      "execution_count": null,
      "outputs": []
    },
    {
      "cell_type": "markdown",
      "source": [
        "SibSp, Fare, Parch を正規化する。<br>\n",
        "Normalize SibSp, Fare, and Parch."
      ],
      "metadata": {
        "id": "lwKyW-UxKcoU"
      }
    },
    {
      "cell_type": "code",
      "source": [
        "processed_train_data[\"SibSp\"] = (processed_train_data[\"SibSp\"] - processed_train_data[\"SibSp\"].min()) / (processed_train_data[\"SibSp\"].max() - processed_train_data[\"SibSp\"].min())\n",
        "processed_train_data[\"Fare\"] = (processed_train_data[\"Fare\"] - processed_train_data[\"Fare\"].min()) / (processed_train_data[\"Fare\"].max() - processed_train_data[\"Fare\"].min())\n",
        "processed_train_data[\"Parch\"] = (processed_train_data[\"Parch\"] - processed_train_data[\"Parch\"].min()) / (processed_train_data[\"Parch\"].max() - processed_train_data[\"Parch\"].min())\n",
        "print(\"done\")"
      ],
      "metadata": {
        "execution": {
          "iopub.status.busy": "2023-08-07T12:44:15.614821Z",
          "iopub.execute_input": "2023-08-07T12:44:15.615617Z",
          "iopub.status.idle": "2023-08-07T12:44:15.630579Z",
          "shell.execute_reply.started": "2023-08-07T12:44:15.615581Z",
          "shell.execute_reply": "2023-08-07T12:44:15.629295Z"
        },
        "trusted": true,
        "id": "M495kFlIKcoU"
      },
      "execution_count": null,
      "outputs": []
    },
    {
      "cell_type": "code",
      "source": [
        "processed_test_data[\"SibSp\"] = (processed_test_data[\"SibSp\"] - processed_test_data[\"SibSp\"].min()) / (processed_test_data[\"SibSp\"].max() - processed_test_data[\"SibSp\"].min())\n",
        "processed_test_data[\"Fare\"] = (processed_test_data[\"Fare\"] - processed_test_data[\"Fare\"].min()) / (processed_test_data[\"Fare\"].max() - processed_test_data[\"Fare\"].min())\n",
        "processed_test_data[\"Parch\"] = (processed_test_data[\"Parch\"] - processed_test_data[\"Parch\"].min()) / (processed_test_data[\"Parch\"].max() - processed_test_data[\"Parch\"].min())\n",
        "print(\"done\")"
      ],
      "metadata": {
        "execution": {
          "iopub.status.busy": "2023-08-07T12:44:19.391619Z",
          "iopub.execute_input": "2023-08-07T12:44:19.392124Z",
          "iopub.status.idle": "2023-08-07T12:44:19.406278Z",
          "shell.execute_reply.started": "2023-08-07T12:44:19.392071Z",
          "shell.execute_reply": "2023-08-07T12:44:19.404569Z"
        },
        "trusted": true,
        "id": "K2A4elehKcoV"
      },
      "execution_count": null,
      "outputs": []
    },
    {
      "cell_type": "code",
      "source": [
        "processed_train_data.describe()"
      ],
      "metadata": {
        "scrolled": true,
        "execution": {
          "iopub.status.busy": "2023-08-07T07:07:03.174898Z",
          "iopub.execute_input": "2023-08-07T07:07:03.175344Z",
          "iopub.status.idle": "2023-08-07T07:07:03.220621Z",
          "shell.execute_reply.started": "2023-08-07T07:07:03.175313Z",
          "shell.execute_reply": "2023-08-07T07:07:03.219465Z"
        },
        "trusted": true,
        "id": "Gcn6TIUeKcoV"
      },
      "execution_count": null,
      "outputs": []
    },
    {
      "cell_type": "code",
      "source": [
        "processed_test_data.describe()"
      ],
      "metadata": {
        "execution": {
          "iopub.status.busy": "2023-08-07T07:07:04.024035Z",
          "iopub.execute_input": "2023-08-07T07:07:04.025232Z",
          "iopub.status.idle": "2023-08-07T07:07:04.067538Z",
          "shell.execute_reply.started": "2023-08-07T07:07:04.025178Z",
          "shell.execute_reply": "2023-08-07T07:07:04.066267Z"
        },
        "trusted": true,
        "id": "LU7R7refKcoV"
      },
      "execution_count": null,
      "outputs": []
    },
    {
      "cell_type": "code",
      "source": [
        "processed_train_data.hist()"
      ],
      "metadata": {
        "execution": {
          "iopub.status.busy": "2023-08-07T07:07:05.163132Z",
          "iopub.execute_input": "2023-08-07T07:07:05.164026Z",
          "iopub.status.idle": "2023-08-07T07:07:07.583274Z",
          "shell.execute_reply.started": "2023-08-07T07:07:05.163979Z",
          "shell.execute_reply": "2023-08-07T07:07:07.582098Z"
        },
        "trusted": true,
        "id": "Ci6MvhvFKcoV"
      },
      "execution_count": null,
      "outputs": []
    },
    {
      "cell_type": "code",
      "source": [
        "processed_test_data.hist()"
      ],
      "metadata": {
        "execution": {
          "iopub.status.busy": "2023-08-07T07:07:08.354173Z",
          "iopub.execute_input": "2023-08-07T07:07:08.355164Z",
          "iopub.status.idle": "2023-08-07T07:07:10.652651Z",
          "shell.execute_reply.started": "2023-08-07T07:07:08.355121Z",
          "shell.execute_reply": "2023-08-07T07:07:10.651295Z"
        },
        "trusted": true,
        "id": "zXNos5svKcoV"
      },
      "execution_count": null,
      "outputs": []
    },
    {
      "cell_type": "code",
      "source": [
        "def one_hot_encode(data, size):\n",
        "    n = int(size)\n",
        "    I = np.eye(n)\n",
        "    ret_list = []\n",
        "\n",
        "    for datum in data:\n",
        "        if np.isnan(datum):\n",
        "            ret_list.append(np.zeros(n))\n",
        "        else:\n",
        "            ret_list.append(I[int(datum)])\n",
        "\n",
        "    ret_list = np.array(ret_list)\n",
        "    return torch.tensor(ret_list, dtype=torch.float)"
      ],
      "metadata": {
        "execution": {
          "iopub.status.busy": "2023-08-07T12:44:31.927338Z",
          "iopub.execute_input": "2023-08-07T12:44:31.927757Z",
          "iopub.status.idle": "2023-08-07T12:44:31.935574Z",
          "shell.execute_reply.started": "2023-08-07T12:44:31.927727Z",
          "shell.execute_reply": "2023-08-07T12:44:31.934531Z"
        },
        "trusted": true,
        "id": "MSbmGAOwKcoW"
      },
      "execution_count": null,
      "outputs": []
    },
    {
      "cell_type": "code",
      "source": [
        "pcls = one_hot_encode(processed_train_data[\"Pclass\"], processed_train_data[\"Pclass\"].max() + 1)\n",
        "age = one_hot_encode(processed_train_data[\"Age\"], processed_train_data[\"Age\"].max() + 1)\n",
        "emb = one_hot_encode(processed_train_data[\"Embarked\"], processed_train_data[\"Embarked\"].max() + 1)\n",
        "print(pcls.shape, age.shape, emb.shape)"
      ],
      "metadata": {
        "scrolled": true,
        "execution": {
          "iopub.status.busy": "2023-08-07T12:44:36.756067Z",
          "iopub.execute_input": "2023-08-07T12:44:36.756572Z",
          "iopub.status.idle": "2023-08-07T12:44:36.821566Z",
          "shell.execute_reply.started": "2023-08-07T12:44:36.756535Z",
          "shell.execute_reply": "2023-08-07T12:44:36.820586Z"
        },
        "trusted": true,
        "id": "YRp4V2QwKcoW"
      },
      "execution_count": null,
      "outputs": []
    },
    {
      "cell_type": "code",
      "source": [
        "# The size should match that of train_data.\n",
        "test_pcls = one_hot_encode(processed_test_data[\"Pclass\"], processed_train_data[\"Pclass\"].max() + 1)\n",
        "test_age = one_hot_encode(processed_test_data[\"Age\"], processed_train_data[\"Age\"].max() + 1)\n",
        "test_emb = one_hot_encode(processed_test_data[\"Embarked\"], processed_train_data[\"Embarked\"].max() + 1)\n",
        "print(test_pcls.shape, test_age.shape, test_emb.shape)"
      ],
      "metadata": {
        "execution": {
          "iopub.status.busy": "2023-08-07T12:44:40.867673Z",
          "iopub.execute_input": "2023-08-07T12:44:40.868284Z",
          "iopub.status.idle": "2023-08-07T12:44:40.888046Z",
          "shell.execute_reply.started": "2023-08-07T12:44:40.868237Z",
          "shell.execute_reply": "2023-08-07T12:44:40.88661Z"
        },
        "trusted": true,
        "id": "7WcT7FrrKcoW"
      },
      "execution_count": null,
      "outputs": []
    },
    {
      "cell_type": "code",
      "source": [
        "label = torch.tensor(processed_train_data[\"Survived\"], dtype=torch.float).unsqueeze(1)\n",
        "sex = torch.tensor(processed_train_data[\"Sex\"], dtype=torch.float).unsqueeze(1)\n",
        "sibsp = torch.tensor(processed_train_data[\"SibSp\"], dtype=torch.float).unsqueeze(1)\n",
        "parch = torch.tensor(processed_train_data[\"Parch\"], dtype=torch.float).unsqueeze(1)\n",
        "fare = torch.tensor(processed_train_data[\"Fare\"], dtype=torch.float).unsqueeze(1)\n",
        "print(label.shape, sex.shape, sibsp.shape, parch.shape, fare.shape)"
      ],
      "metadata": {
        "scrolled": true,
        "execution": {
          "iopub.status.busy": "2023-08-07T12:44:41.937163Z",
          "iopub.execute_input": "2023-08-07T12:44:41.937599Z",
          "iopub.status.idle": "2023-08-07T12:44:41.969306Z",
          "shell.execute_reply.started": "2023-08-07T12:44:41.937566Z",
          "shell.execute_reply": "2023-08-07T12:44:41.968178Z"
        },
        "trusted": true,
        "id": "z6Fy6QsOKcoW"
      },
      "execution_count": null,
      "outputs": []
    },
    {
      "cell_type": "code",
      "source": [
        "test_pid = torch.tensor(processed_test_data[\"PassengerId\"], dtype=torch.float).unsqueeze(1)\n",
        "test_sex = torch.tensor(processed_test_data[\"Sex\"], dtype=torch.float).unsqueeze(1)\n",
        "test_sibsp = torch.tensor(processed_test_data[\"SibSp\"], dtype=torch.float).unsqueeze(1)\n",
        "test_parch = torch.tensor(processed_test_data[\"Parch\"], dtype=torch.float).unsqueeze(1)\n",
        "test_fare = torch.tensor(processed_test_data[\"Fare\"], dtype=torch.float).unsqueeze(1)\n",
        "print(test_pid.shape, test_sex.shape, test_sibsp.shape, test_parch.shape, test_fare.shape)"
      ],
      "metadata": {
        "execution": {
          "iopub.status.busy": "2023-08-07T12:44:44.824345Z",
          "iopub.execute_input": "2023-08-07T12:44:44.825048Z",
          "iopub.status.idle": "2023-08-07T12:44:44.836657Z",
          "shell.execute_reply.started": "2023-08-07T12:44:44.825016Z",
          "shell.execute_reply": "2023-08-07T12:44:44.835462Z"
        },
        "trusted": true,
        "id": "0UopwaR0KcoX"
      },
      "execution_count": null,
      "outputs": []
    },
    {
      "cell_type": "code",
      "source": [
        "train_X =  torch.cat([label, pcls, sex, age, sibsp, parch, fare, emb], dim=1)\n",
        "train_X.shape"
      ],
      "metadata": {
        "execution": {
          "iopub.status.busy": "2023-08-07T12:44:50.41663Z",
          "iopub.execute_input": "2023-08-07T12:44:50.417041Z",
          "iopub.status.idle": "2023-08-07T12:44:50.436546Z",
          "shell.execute_reply.started": "2023-08-07T12:44:50.417012Z",
          "shell.execute_reply": "2023-08-07T12:44:50.435201Z"
        },
        "trusted": true,
        "id": "HYfQUzcTKcoX"
      },
      "execution_count": null,
      "outputs": []
    },
    {
      "cell_type": "code",
      "source": [
        "test_X = torch.cat([test_pid, test_pcls, test_sex, test_age, test_sibsp, test_parch, test_fare, test_emb], dim=1)\n",
        "test_X.shape"
      ],
      "metadata": {
        "execution": {
          "iopub.status.busy": "2023-08-07T12:44:51.323116Z",
          "iopub.execute_input": "2023-08-07T12:44:51.323607Z",
          "iopub.status.idle": "2023-08-07T12:44:51.333776Z",
          "shell.execute_reply.started": "2023-08-07T12:44:51.32357Z",
          "shell.execute_reply": "2023-08-07T12:44:51.332315Z"
        },
        "trusted": true,
        "id": "zGnjEKdvKcoX"
      },
      "execution_count": null,
      "outputs": []
    },
    {
      "cell_type": "code",
      "source": [
        "from torch.utils.data import DataLoader"
      ],
      "metadata": {
        "execution": {
          "iopub.status.busy": "2023-08-07T12:44:59.930908Z",
          "iopub.execute_input": "2023-08-07T12:44:59.931332Z",
          "iopub.status.idle": "2023-08-07T12:44:59.93818Z",
          "shell.execute_reply.started": "2023-08-07T12:44:59.931301Z",
          "shell.execute_reply": "2023-08-07T12:44:59.936658Z"
        },
        "trusted": true,
        "id": "OnmxTw25KcoX"
      },
      "execution_count": null,
      "outputs": []
    },
    {
      "cell_type": "code",
      "source": [
        "train_size = int(train_X.shape[0] * 0.85)\n",
        "val_size = train_X.shape[0] - train_size\n",
        "print(train_size, val_size)"
      ],
      "metadata": {
        "execution": {
          "iopub.status.busy": "2023-08-07T12:45:01.046103Z",
          "iopub.execute_input": "2023-08-07T12:45:01.046579Z",
          "iopub.status.idle": "2023-08-07T12:45:01.05429Z",
          "shell.execute_reply.started": "2023-08-07T12:45:01.046545Z",
          "shell.execute_reply": "2023-08-07T12:45:01.052693Z"
        },
        "trusted": true,
        "id": "2ZCfmu7oKcoY"
      },
      "execution_count": null,
      "outputs": []
    },
    {
      "cell_type": "code",
      "source": [
        "import torch.nn as nn\n",
        "import torch.optim as optim\n",
        "import torch.nn.functional as F"
      ],
      "metadata": {
        "execution": {
          "iopub.status.busy": "2023-08-07T12:45:08.444666Z",
          "iopub.execute_input": "2023-08-07T12:45:08.445192Z",
          "iopub.status.idle": "2023-08-07T12:45:08.45175Z",
          "shell.execute_reply.started": "2023-08-07T12:45:08.445153Z",
          "shell.execute_reply": "2023-08-07T12:45:08.450155Z"
        },
        "trusted": true,
        "id": "r3NewXZCKcoY"
      },
      "execution_count": null,
      "outputs": []
    },
    {
      "cell_type": "code",
      "source": [
        "class TitanicNet(nn.Module):\n",
        "    def __init__(self):\n",
        "        super().__init__()\n",
        "\n",
        "        self.layer1 = nn.Linear(91, 91)\n",
        "        self.norm1 = nn.BatchNorm1d(91)\n",
        "        self.drop1 = nn.Dropout(0.9)\n",
        "\n",
        "        self.layer2 = nn.Linear(91, 91)\n",
        "        self.norm2 = nn.BatchNorm1d(91)\n",
        "        self.drop2 = nn.Dropout(0.9)\n",
        "\n",
        "        self.layer3 = nn.Linear(91, 40)\n",
        "        self.norm3 = nn.BatchNorm1d(40)\n",
        "        self.drop3 = nn.Dropout(0.9)\n",
        "\n",
        "        self.layer4 = nn.Linear(40, 1)\n",
        "\n",
        "\n",
        "\n",
        "    def forward(self, x):\n",
        "        skip = x\n",
        "\n",
        "        x = self.layer1(x)\n",
        "        x = self.norm1(x)\n",
        "        x = F.relu(x)\n",
        "        x = self.drop1(x)\n",
        "\n",
        "        x = self.layer2(x)\n",
        "        x = self.norm2(x)\n",
        "        x = F.relu(x)\n",
        "        x = self.drop2(x)\n",
        "\n",
        "        x = self.layer3(x + skip)\n",
        "        x = self.norm3(x)\n",
        "        x = self.drop3(x)\n",
        "\n",
        "        x = self.layer4(x)\n",
        "\n",
        "        return x"
      ],
      "metadata": {
        "execution": {
          "iopub.status.busy": "2023-08-07T13:07:55.853885Z",
          "iopub.execute_input": "2023-08-07T13:07:55.854442Z",
          "iopub.status.idle": "2023-08-07T13:07:55.868165Z",
          "shell.execute_reply.started": "2023-08-07T13:07:55.854403Z",
          "shell.execute_reply": "2023-08-07T13:07:55.866891Z"
        },
        "trusted": true,
        "id": "VJjue-auKcoY"
      },
      "execution_count": null,
      "outputs": []
    },
    {
      "cell_type": "code",
      "source": [
        "train_set, val_set = torch.utils.data.random_split(train_X, [train_size, val_size])\n",
        "\n",
        "batch_size = 32\n",
        "train_loader = DataLoader(train_set, batch_size=757, shuffle=True)\n",
        "val_loader = DataLoader(val_set, batch_size=134)\n",
        "\n",
        "model = TitanicNet()\n",
        "\n",
        "learning_rate = 0.0005\n",
        "criterion = nn.BCEWithLogitsLoss()\n",
        "optimizer = optim.Adam(model.parameters(), lr=learning_rate)\n",
        "\n",
        "from torchinfo import summary\n",
        "summary(model)"
      ],
      "metadata": {
        "execution": {
          "iopub.status.busy": "2023-08-07T13:07:58.24746Z",
          "iopub.execute_input": "2023-08-07T13:07:58.248008Z",
          "iopub.status.idle": "2023-08-07T13:07:58.265131Z",
          "shell.execute_reply.started": "2023-08-07T13:07:58.247971Z",
          "shell.execute_reply": "2023-08-07T13:07:58.263702Z"
        },
        "trusted": true,
        "id": "4LcipI6HKcoY"
      },
      "execution_count": null,
      "outputs": []
    },
    {
      "cell_type": "code",
      "source": [
        "from tqdm.notebook import tqdm\n",
        "epochs = 3000\n",
        "\n",
        "train_loss_hist = []\n",
        "train_acc_hist = []\n",
        "val_loss_hist = []\n",
        "val_acc_hist = []\n",
        "pred_hist = []\n",
        "\n",
        "for epoch in range(epochs):\n",
        "\n",
        "    for batch in train_loader:\n",
        "        model.train()\n",
        "        labels = batch[:, 0].unsqueeze(1)\n",
        "        #labels = torch.ones_like(labels)\n",
        "        X = batch[:, 1:]\n",
        "\n",
        "        optimizer.zero_grad()\n",
        "        pred = model(X)\n",
        "        loss = criterion(pred, labels)\n",
        "        loss.backward()\n",
        "        optimizer.step()\n",
        "\n",
        "        with torch.no_grad():\n",
        "            temp_loss = loss.item()\n",
        "            train_loss_hist.append(temp_loss)\n",
        "            pred_hist.append(torch.round(F.sigmoid(pred)))\n",
        "            acc = (torch.round(F.sigmoid(pred)) == labels).sum() / len(labels)\n",
        "            acc=acc.item()\n",
        "            train_acc_hist.append(acc)\n",
        "\n",
        "    with torch.no_grad():\n",
        "\n",
        "        for val_batch in val_loader:\n",
        "            model.eval()\n",
        "            labels = val_batch[:, 0].unsqueeze(1)\n",
        "            X = val_batch[:, 1:]\n",
        "            pred = model(X)\n",
        "            val_loss = criterion(pred, labels)\n",
        "\n",
        "            val_temp_loss = val_loss.item()\n",
        "            val_loss_hist.append(val_temp_loss)\n",
        "            val_acc = (torch.round(F.sigmoid(pred)) == labels).sum() / len(labels)\n",
        "            val_acc = val_acc.item()\n",
        "            val_acc_hist.append(val_acc)\n",
        "\n",
        "    if epoch % 100 == 0:\n",
        "        print(f\"epoch:{epoch}, train_loss={temp_loss}, validation_loss={val_temp_loss}\")"
      ],
      "metadata": {
        "scrolled": true,
        "execution": {
          "iopub.status.busy": "2023-08-07T13:07:59.905316Z",
          "iopub.execute_input": "2023-08-07T13:07:59.905782Z",
          "iopub.status.idle": "2023-08-07T13:08:40.221001Z",
          "shell.execute_reply.started": "2023-08-07T13:07:59.905748Z",
          "shell.execute_reply": "2023-08-07T13:08:40.219359Z"
        },
        "trusted": true,
        "id": "Kj_4tap2KcoY"
      },
      "execution_count": null,
      "outputs": []
    },
    {
      "cell_type": "code",
      "source": [
        "rcParams[\"figure.figsize\"] = 6, 4\n",
        "plt.plot(train_loss_hist)"
      ],
      "metadata": {
        "execution": {
          "iopub.status.busy": "2023-08-07T13:08:50.940035Z",
          "iopub.execute_input": "2023-08-07T13:08:50.94056Z",
          "iopub.status.idle": "2023-08-07T13:08:51.255312Z",
          "shell.execute_reply.started": "2023-08-07T13:08:50.940525Z",
          "shell.execute_reply": "2023-08-07T13:08:51.253902Z"
        },
        "trusted": true,
        "id": "6LBNI5XJKcoZ"
      },
      "execution_count": null,
      "outputs": []
    },
    {
      "cell_type": "code",
      "source": [
        "plt.plot(train_acc_hist)"
      ],
      "metadata": {
        "execution": {
          "iopub.status.busy": "2023-08-07T13:08:53.077575Z",
          "iopub.execute_input": "2023-08-07T13:08:53.078028Z",
          "iopub.status.idle": "2023-08-07T13:08:53.314433Z",
          "shell.execute_reply.started": "2023-08-07T13:08:53.077992Z",
          "shell.execute_reply": "2023-08-07T13:08:53.312999Z"
        },
        "trusted": true,
        "id": "nIp0UJl2KcoZ"
      },
      "execution_count": null,
      "outputs": []
    },
    {
      "cell_type": "code",
      "source": [
        "plt.plot(val_loss_hist)"
      ],
      "metadata": {
        "execution": {
          "iopub.status.busy": "2023-08-07T13:08:55.112788Z",
          "iopub.execute_input": "2023-08-07T13:08:55.113242Z",
          "iopub.status.idle": "2023-08-07T13:08:55.391676Z",
          "shell.execute_reply.started": "2023-08-07T13:08:55.113212Z",
          "shell.execute_reply": "2023-08-07T13:08:55.390467Z"
        },
        "trusted": true,
        "id": "BxZQPLdBKcoZ"
      },
      "execution_count": null,
      "outputs": []
    },
    {
      "cell_type": "code",
      "source": [
        "plt.plot(val_acc_hist)"
      ],
      "metadata": {
        "execution": {
          "iopub.status.busy": "2023-08-07T13:09:05.389136Z",
          "iopub.execute_input": "2023-08-07T13:09:05.389559Z",
          "iopub.status.idle": "2023-08-07T13:09:05.617984Z",
          "shell.execute_reply.started": "2023-08-07T13:09:05.389528Z",
          "shell.execute_reply": "2023-08-07T13:09:05.616633Z"
        },
        "trusted": true,
        "id": "aB8b6l_uKcoZ"
      },
      "execution_count": null,
      "outputs": []
    },
    {
      "cell_type": "markdown",
      "source": [
        "700エポックくらいで止めてみるか。<br>\n",
        "I'd stop at about 700 epochs."
      ],
      "metadata": {
        "id": "lilH_DcfKcoa"
      }
    },
    {
      "cell_type": "code",
      "source": [
        "train_set, val_set = torch.utils.data.random_split(train_X, [train_size, val_size])\n",
        "\n",
        "train_loader = DataLoader(train_set, batch_size=757, shuffle=True)\n",
        "val_loader = DataLoader(val_set, batch_size=134)\n",
        "\n",
        "model = TitanicNet()\n",
        "\n",
        "learning_rate = 0.0005\n",
        "criterion = nn.BCEWithLogitsLoss()\n",
        "optimizer = optim.Adam(model.parameters(), lr=learning_rate)\n",
        "\n",
        "from torchinfo import summary\n",
        "summary(model)"
      ],
      "metadata": {
        "execution": {
          "iopub.status.busy": "2023-08-07T13:18:17.581471Z",
          "iopub.execute_input": "2023-08-07T13:18:17.581894Z",
          "iopub.status.idle": "2023-08-07T13:18:17.597307Z",
          "shell.execute_reply.started": "2023-08-07T13:18:17.581861Z",
          "shell.execute_reply": "2023-08-07T13:18:17.595827Z"
        },
        "trusted": true,
        "id": "oIHycrF5Kcoa"
      },
      "execution_count": null,
      "outputs": []
    },
    {
      "cell_type": "code",
      "source": [
        "from tqdm.notebook import tqdm\n",
        "epochs = 650\n",
        "\n",
        "train_loss_hist = []\n",
        "train_acc_hist = []\n",
        "val_loss_hist = []\n",
        "val_acc_hist = []\n",
        "pred_hist = []\n",
        "\n",
        "for epoch in range(epochs):\n",
        "\n",
        "    for batch in train_loader:\n",
        "        model.train()\n",
        "        labels = batch[:, 0].unsqueeze(1)\n",
        "        #labels = torch.ones_like(labels)\n",
        "        X = batch[:, 1:]\n",
        "\n",
        "        optimizer.zero_grad()\n",
        "        pred = model(X)\n",
        "        loss = criterion(pred, labels)\n",
        "        loss.backward()\n",
        "        optimizer.step()\n",
        "\n",
        "        with torch.no_grad():\n",
        "            temp_loss = loss.item()\n",
        "            train_loss_hist.append(temp_loss)\n",
        "            pred_hist.append(torch.round(F.sigmoid(pred)))\n",
        "            acc = (torch.round(F.sigmoid(pred)) == labels).sum() / len(labels)\n",
        "            acc=acc.item()\n",
        "            train_acc_hist.append(acc)\n",
        "\n",
        "    with torch.no_grad():\n",
        "\n",
        "        for val_batch in val_loader:\n",
        "            model.eval()\n",
        "            labels = val_batch[:, 0].unsqueeze(1)\n",
        "            X = val_batch[:, 1:]\n",
        "            pred = model(X)\n",
        "            val_loss = criterion(pred, labels)\n",
        "\n",
        "            val_temp_loss = val_loss.item()\n",
        "            val_loss_hist.append(val_temp_loss)\n",
        "            val_acc = (torch.round(F.sigmoid(pred)) == labels).sum() / len(labels)\n",
        "            val_acc = val_acc.item()\n",
        "            val_acc_hist.append(val_acc)\n",
        "\n",
        "    if epoch % 100 == 0:\n",
        "        print(f\"epoch:{epoch}, train_loss={temp_loss}, validation_loss={val_temp_loss}\")"
      ],
      "metadata": {
        "execution": {
          "iopub.status.busy": "2023-08-07T13:18:18.968121Z",
          "iopub.execute_input": "2023-08-07T13:18:18.968586Z",
          "iopub.status.idle": "2023-08-07T13:18:26.964978Z",
          "shell.execute_reply.started": "2023-08-07T13:18:18.968553Z",
          "shell.execute_reply": "2023-08-07T13:18:26.964131Z"
        },
        "trusted": true,
        "id": "xj2kZdxxKcoa"
      },
      "execution_count": null,
      "outputs": []
    },
    {
      "cell_type": "code",
      "source": [
        "plt.plot(val_loss_hist)"
      ],
      "metadata": {
        "execution": {
          "iopub.status.busy": "2023-08-07T13:18:30.755986Z",
          "iopub.execute_input": "2023-08-07T13:18:30.756742Z",
          "iopub.status.idle": "2023-08-07T13:18:30.984601Z",
          "shell.execute_reply.started": "2023-08-07T13:18:30.756706Z",
          "shell.execute_reply": "2023-08-07T13:18:30.983258Z"
        },
        "trusted": true,
        "id": "umgWzTyvKcoa"
      },
      "execution_count": null,
      "outputs": []
    },
    {
      "cell_type": "code",
      "source": [
        "plt.plot(val_acc_hist)"
      ],
      "metadata": {
        "execution": {
          "iopub.status.busy": "2023-08-07T13:18:33.290233Z",
          "iopub.execute_input": "2023-08-07T13:18:33.29064Z",
          "iopub.status.idle": "2023-08-07T13:18:33.512225Z",
          "shell.execute_reply.started": "2023-08-07T13:18:33.290611Z",
          "shell.execute_reply": "2023-08-07T13:18:33.51066Z"
        },
        "trusted": true,
        "id": "IGb3t98mKcoa"
      },
      "execution_count": null,
      "outputs": []
    },
    {
      "cell_type": "markdown",
      "source": [
        "悪くない。<br>\n",
        "Not bad."
      ],
      "metadata": {
        "id": "0tazbwS5Kcob"
      }
    },
    {
      "cell_type": "code",
      "source": [
        "print(test_X.shape)\n",
        "test_loader = DataLoader(test_X, batch_size=418)"
      ],
      "metadata": {
        "execution": {
          "iopub.status.busy": "2023-08-07T13:47:21.768348Z",
          "iopub.execute_input": "2023-08-07T13:47:21.76881Z",
          "iopub.status.idle": "2023-08-07T13:47:21.776829Z",
          "shell.execute_reply.started": "2023-08-07T13:47:21.768778Z",
          "shell.execute_reply": "2023-08-07T13:47:21.775484Z"
        },
        "trusted": true,
        "id": "7THJdYH6Kcob"
      },
      "execution_count": null,
      "outputs": []
    },
    {
      "cell_type": "code",
      "source": [
        "with torch.no_grad():\n",
        "\n",
        "    for test_batch in test_loader:\n",
        "        model.eval()\n",
        "        pid = test_batch[:, 0].unsqueeze(1)\n",
        "        X = test_batch[:, 1:]\n",
        "        pred = model(X)\n",
        "        pred = torch.round(F.sigmoid(pred))\n",
        "\n",
        "print(\"done\")"
      ],
      "metadata": {
        "execution": {
          "iopub.status.busy": "2023-08-07T14:05:18.31354Z",
          "iopub.execute_input": "2023-08-07T14:05:18.314068Z",
          "iopub.status.idle": "2023-08-07T14:05:18.330929Z",
          "shell.execute_reply.started": "2023-08-07T14:05:18.314029Z",
          "shell.execute_reply": "2023-08-07T14:05:18.329309Z"
        },
        "trusted": true,
        "id": "wmqUjUG0Kcob"
      },
      "execution_count": null,
      "outputs": []
    },
    {
      "cell_type": "code",
      "source": [
        "print(pid.shape, pred.shape)"
      ],
      "metadata": {
        "execution": {
          "iopub.status.busy": "2023-08-07T14:05:19.454891Z",
          "iopub.execute_input": "2023-08-07T14:05:19.455635Z",
          "iopub.status.idle": "2023-08-07T14:05:19.462882Z",
          "shell.execute_reply.started": "2023-08-07T14:05:19.455589Z",
          "shell.execute_reply": "2023-08-07T14:05:19.461541Z"
        },
        "trusted": true,
        "id": "0dT9laWDKcob"
      },
      "execution_count": null,
      "outputs": []
    },
    {
      "cell_type": "code",
      "source": [
        "pid = pid.to(torch.int).numpy()\n",
        "pred = pred.to(torch.int).numpy()"
      ],
      "metadata": {
        "execution": {
          "iopub.status.busy": "2023-08-07T14:05:20.841418Z",
          "iopub.execute_input": "2023-08-07T14:05:20.842395Z",
          "iopub.status.idle": "2023-08-07T14:05:20.847817Z",
          "shell.execute_reply.started": "2023-08-07T14:05:20.842359Z",
          "shell.execute_reply": "2023-08-07T14:05:20.846671Z"
        },
        "trusted": true,
        "id": "HxZTxTOiKcoc"
      },
      "execution_count": null,
      "outputs": []
    },
    {
      "cell_type": "code",
      "source": [
        "data = {\"PassengerId\": pid.squeeze(), \"Survived\": pred.squeeze()}\n",
        "submit = pd.DataFrame(data)\n",
        "submit"
      ],
      "metadata": {
        "scrolled": true,
        "execution": {
          "iopub.status.busy": "2023-08-07T14:06:55.2403Z",
          "iopub.execute_input": "2023-08-07T14:06:55.242135Z",
          "iopub.status.idle": "2023-08-07T14:06:55.29925Z",
          "shell.execute_reply.started": "2023-08-07T14:06:55.242051Z",
          "shell.execute_reply": "2023-08-07T14:06:55.297373Z"
        },
        "trusted": true,
        "id": "Kwm9YTl3Kcoc"
      },
      "execution_count": null,
      "outputs": []
    },
    {
      "cell_type": "code",
      "source": [
        "submit.to_csv('submission.csv', index=False)"
      ],
      "metadata": {
        "execution": {
          "iopub.status.busy": "2023-08-07T14:08:13.441643Z",
          "iopub.execute_input": "2023-08-07T14:08:13.442183Z",
          "iopub.status.idle": "2023-08-07T14:08:13.453898Z",
          "shell.execute_reply.started": "2023-08-07T14:08:13.442145Z",
          "shell.execute_reply": "2023-08-07T14:08:13.452986Z"
        },
        "trusted": true,
        "id": "t9bhjzMhKcoc"
      },
      "execution_count": null,
      "outputs": []
    },
    {
      "cell_type": "code",
      "source": [],
      "metadata": {
        "id": "ozQTOM4ZKcoc"
      },
      "execution_count": null,
      "outputs": []
    }
  ]
}